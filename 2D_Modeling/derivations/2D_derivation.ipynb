{
 "cells": [
  {
   "cell_type": "code",
   "execution_count": 29,
   "metadata": {},
   "outputs": [],
   "source": [
    "import sympy as sp\n",
    "from IPython.display import display, Latex\n",
    "\n",
    "# Define symbols\n",
    "x, z, a = sp.symbols('x z a')  # Position and angle\n",
    "xdot, zdot, adot = sp.symbols('xdot zdot adot')  # Velocities\n",
    "xddot, zddot, addot = sp.symbols('xddot zddot addot')  # Accelerations\n",
    "u, w, q = sp.symbols('u w q')  # Optional velocities (if needed)\n",
    "\n",
    "# Physical parameters\n",
    "m, g, B, A, rho, Iyy = sp.symbols('m g B A rho I_{yy}')\n",
    "Cl_alpha, Cd0, Correction, e = sp.symbols('C_{l\\\\alpha} C_{d0} kappa e') \n",
    "Cl_hull, Cd_hull = sp.symbols('C_{l\\\\hull} C_{d\\\\hull}')\n",
    "FT, theta0 = sp.symbols('F_T theta_0')  # Thrust force and angle\n",
    "\n",
    "# Position-dependent offsets for different reference points\n",
    "r_xi, r_zi, r_xh, r_zh, r_xt, r_zt, r_xb = sp.symbols(\n",
    "    'r_{xi} r_{zi} r_{xh} r_{zh} r_{xt} r_{zt} r_{xb}'\n",
    ")\n",
    "\n",
    "# Compute common aerodynamic angle of attack\n",
    "def compute_alpha(r_x, r_z):\n",
    "    \"\"\"Calculate the angle of attack α based on r_x and r_z.\"\"\"\n",
    "    return sp.atan((zdot - adot * r_x) / (xdot + adot * r_z))\n",
    "\n",
    "alpha_i = compute_alpha(r_xi, r_zi)  # Angle of attack for 'i' reference\n",
    "alpha_h = compute_alpha(r_xh, r_zh)  # Angle of attack for 'h' reference\n",
    "\n",
    "\n",
    "Cl_hull = sp.Rational(2 ,3) * sp.pi\n",
    "Cd0_hull = 0 # Assuming no hull drag for simplicity\n",
    "\n",
    "# Define the state vector\n",
    "X = sp.Matrix([x, z, a, xdot, zdot, adot])\n",
    "X_dot = sp.Matrix([xdot, zdot, adot, xddot, zddot, addot])\n",
    "\n",
    "# Reusable term: Aerodynamic drag and lift forces\n",
    "def aero_force(Cl_alpha, Cd0, r_x, r_z, alpha):\n",
    "    \"\"\"Calculate aerodynamic force component based on given offsets and α.\"\"\"\n",
    "    velocity_sq = (xdot + adot * r_z)**2 + (zdot - adot * r_x)**2\n",
    "    lift = Cl_alpha * Correction * alpha\n",
    "    drag = Cd0 + (lift / (sp.pi * A * e))**2  # Lift-induced drag correction\n",
    "    return 0.5 * A * rho * velocity_sq * drag, 0.5 * A * rho * velocity_sq * lift\n",
    "\n",
    "F_drag_i, F_lift_i = aero_force(Cl_alpha, Cd0, r_xi, r_zi, alpha_i)\n",
    "F_drag_h, F_lift_h = aero_force(Cl_hull, Cd0_hull, r_xh, r_zh, alpha_h)\n",
    "\n",
    "# Equations of Motion\n",
    "f1 = xdot  # dx/dt = xdot\n",
    "f2 = zdot  # dz/dt = zdot\n",
    "f3 = adot  # da/dt = adot\n",
    "\n",
    "# ẍ equation\n",
    "f4 = (\n",
    "    (1 / m) * (\n",
    "        -(m * g - B) * sp.sin(a) \n",
    "        + FT * sp.cos(theta0 - a)\n",
    "        - F_drag_i \n",
    "        - F_drag_h\n",
    "        )\n",
    "        - adot * zdot\n",
    ")\n",
    "\n",
    "# z̈ equation\n",
    "f5 = (\n",
    "    (1 / m) * (\n",
    "        (m * g - B) * sp.cos(a) \n",
    "        + FT * sp.sin(theta0 - a)\n",
    "        + F_lift_i\n",
    "        + F_lift_h\n",
    "       )\n",
    "        + adot * xdot\n",
    ")\n",
    "\n",
    "# ä equation\n",
    "f6 = (1 / Iyy) * (\n",
    "    B * r_xb * sp.cos(a) +\n",
    "    FT * (-sp.cos(theta0 - a) * r_zt + sp.sin(theta0 - a) * r_xt) +\n",
    "    F_lift_i * (r_xi) +\n",
    "    F_drag_i * (-r_zi) +\n",
    "    F_lift_h * (r_xh) +\n",
    "    F_drag_h * (-r_zh)\n",
    "    )\n",
    "\n",
    "\n",
    "# Form a dictionary of the associated equations\n",
    "equations = {\n",
    "    xdot  : f1,\n",
    "    zdot  : f2,\n",
    "    adot  : f3,\n",
    "    xddot : f4,\n",
    "    zddot : f5,\n",
    "    addot : f6,\n",
    "}\n",
    "\n",
    "F = sp.Matrix([f1,f2, f3, f4, f5, f6])\n"
   ]
  },
  {
   "cell_type": "markdown",
   "metadata": {},
   "source": [
    "## Evaluated Functions:"
   ]
  },
  {
   "cell_type": "code",
   "execution_count": 32,
   "metadata": {},
   "outputs": [
    {
     "data": {
      "text/latex": [
       "$\\dot{x} = \\dot{x}$"
      ],
      "text/plain": [
       "<IPython.core.display.Latex object>"
      ]
     },
     "metadata": {},
     "output_type": "display_data"
    },
    {
     "data": {
      "text/latex": [
       "$\\dot{z} = \\dot{z}$"
      ],
      "text/plain": [
       "<IPython.core.display.Latex object>"
      ]
     },
     "metadata": {},
     "output_type": "display_data"
    },
    {
     "data": {
      "text/latex": [
       "$\\dot{a} = \\dot{a}$"
      ],
      "text/plain": [
       "<IPython.core.display.Latex object>"
      ]
     },
     "metadata": {},
     "output_type": "display_data"
    },
    {
     "data": {
      "text/latex": [
       "$\\ddot{x} = - \\dot{a} \\dot{z} + \\frac{- 0.5 A \\rho \\left(C_{d0} + \\frac{C_{l\\alpha}^{2} \\kappa^{2} \\operatorname{atan}^{2}{\\left(\\frac{- \\dot{a} r_{xi} + \\dot{z}}{\\dot{a} r_{zi} + \\dot{x}} \\right)}}{\\pi^{2} A^{2} e^{2}}\\right) \\left(\\left(- \\dot{a} r_{xi} + \\dot{z}\\right)^{2} + \\left(\\dot{a} r_{zi} + \\dot{x}\\right)^{2}\\right) + F_{T} \\cos{\\left(a - \\theta_{0} \\right)} + \\left(B - g m\\right) \\sin{\\left(a \\right)} - \\frac{0.222222222222222 \\kappa^{2} \\rho \\left(\\left(- \\dot{a} r_{xh} + \\dot{z}\\right)^{2} + \\left(\\dot{a} r_{zh} + \\dot{x}\\right)^{2}\\right) \\operatorname{atan}^{2}{\\left(\\frac{- \\dot{a} r_{xh} + \\dot{z}}{\\dot{a} r_{zh} + \\dot{x}} \\right)}}{A e^{2}}}{m}$"
      ],
      "text/plain": [
       "<IPython.core.display.Latex object>"
      ]
     },
     "metadata": {},
     "output_type": "display_data"
    },
    {
     "data": {
      "text/latex": [
       "$\\ddot{z} = \\dot{a} \\dot{x} + \\frac{0.5 A C_{l\\alpha} \\kappa \\rho \\left(\\left(- \\dot{a} r_{xi} + \\dot{z}\\right)^{2} + \\left(\\dot{a} r_{zi} + \\dot{x}\\right)^{2}\\right) \\operatorname{atan}{\\left(\\frac{- \\dot{a} r_{xi} + \\dot{z}}{\\dot{a} r_{zi} + \\dot{x}} \\right)} + 0.333333333333333 \\pi A \\kappa \\rho \\left(\\left(- \\dot{a} r_{xh} + \\dot{z}\\right)^{2} + \\left(\\dot{a} r_{zh} + \\dot{x}\\right)^{2}\\right) \\operatorname{atan}{\\left(\\frac{- \\dot{a} r_{xh} + \\dot{z}}{\\dot{a} r_{zh} + \\dot{x}} \\right)} - F_{T} \\sin{\\left(a - \\theta_{0} \\right)} + \\left(- B + g m\\right) \\cos{\\left(a \\right)}}{m}$"
      ],
      "text/plain": [
       "<IPython.core.display.Latex object>"
      ]
     },
     "metadata": {},
     "output_type": "display_data"
    },
    {
     "data": {
      "text/latex": [
       "$\\ddot{a} = \\frac{0.5 A C_{l\\alpha} \\kappa r_{xi} \\rho \\left(\\left(- \\dot{a} r_{xi} + \\dot{z}\\right)^{2} + \\left(\\dot{a} r_{zi} + \\dot{x}\\right)^{2}\\right) \\operatorname{atan}{\\left(\\frac{- \\dot{a} r_{xi} + \\dot{z}}{\\dot{a} r_{zi} + \\dot{x}} \\right)} + 0.333333333333333 \\pi A \\kappa r_{xh} \\rho \\left(\\left(- \\dot{a} r_{xh} + \\dot{z}\\right)^{2} + \\left(\\dot{a} r_{zh} + \\dot{x}\\right)^{2}\\right) \\operatorname{atan}{\\left(\\frac{- \\dot{a} r_{xh} + \\dot{z}}{\\dot{a} r_{zh} + \\dot{x}} \\right)} - 0.5 A r_{zi} \\rho \\left(C_{d0} + \\frac{C_{l\\alpha}^{2} \\kappa^{2} \\operatorname{atan}^{2}{\\left(\\frac{- \\dot{a} r_{xi} + \\dot{z}}{\\dot{a} r_{zi} + \\dot{x}} \\right)}}{\\pi^{2} A^{2} e^{2}}\\right) \\left(\\left(- \\dot{a} r_{xi} + \\dot{z}\\right)^{2} + \\left(\\dot{a} r_{zi} + \\dot{x}\\right)^{2}\\right) + B r_{xb} \\cos{\\left(a \\right)} + F_{T} \\left(- r_{xt} \\sin{\\left(a - \\theta_{0} \\right)} - r_{zt} \\cos{\\left(a - \\theta_{0} \\right)}\\right) - \\frac{0.222222222222222 \\kappa^{2} r_{zh} \\rho \\left(\\left(- \\dot{a} r_{xh} + \\dot{z}\\right)^{2} + \\left(\\dot{a} r_{zh} + \\dot{x}\\right)^{2}\\right) \\operatorname{atan}^{2}{\\left(\\frac{- \\dot{a} r_{xh} + \\dot{z}}{\\dot{a} r_{zh} + \\dot{x}} \\right)}}{A e^{2}}}{I_{yy}}$"
      ],
      "text/plain": [
       "<IPython.core.display.Latex object>"
      ]
     },
     "metadata": {},
     "output_type": "display_data"
    }
   ],
   "source": [
    "# Display the equations as is (no simplification)\n",
    "for variable, eq in equations.items():\n",
    "    display(Latex(f\"${sp.latex(variable)} = {sp.latex(eq)}$\"))\n",
    "\n",
    "# Display the equations with simplification\n",
    "# for i, eq in enumerate(X_dot):\n",
    "#     # Simplify or force fraction representation where necessary\n",
    "#     simplified_eq = sp.simplify(eq)\n",
    "#     display(Latex(f\"${sp.latex(X[i])} = {sp.latex(simplified_eq, mode='equation')}$\"))\n",
    "\n"
   ]
  },
  {
   "cell_type": "code",
   "execution_count": 33,
   "metadata": {},
   "outputs": [
    {
     "data": {
      "text/latex": [
       "$\\frac{\\partial f_1}{\\partial \\dot{x}} = 0\n",
       "$"
      ],
      "text/plain": [
       "<IPython.core.display.Latex object>"
      ]
     },
     "metadata": {},
     "output_type": "display_data"
    },
    {
     "data": {
      "text/latex": [
       "$\\frac{\\partial f_1}{\\partial \\dot{z}} = 0\n",
       "$"
      ],
      "text/plain": [
       "<IPython.core.display.Latex object>"
      ]
     },
     "metadata": {},
     "output_type": "display_data"
    },
    {
     "data": {
      "text/latex": [
       "$\\frac{\\partial f_1}{\\partial \\dot{a}} = 0\n",
       "$"
      ],
      "text/plain": [
       "<IPython.core.display.Latex object>"
      ]
     },
     "metadata": {},
     "output_type": "display_data"
    },
    {
     "data": {
      "text/latex": [
       "$\\frac{\\partial f_1}{\\partial \\ddot{x}} = 1\n",
       "$"
      ],
      "text/plain": [
       "<IPython.core.display.Latex object>"
      ]
     },
     "metadata": {},
     "output_type": "display_data"
    },
    {
     "data": {
      "text/latex": [
       "$\\frac{\\partial f_1}{\\partial \\ddot{z}} = 0\n",
       "$"
      ],
      "text/plain": [
       "<IPython.core.display.Latex object>"
      ]
     },
     "metadata": {},
     "output_type": "display_data"
    },
    {
     "data": {
      "text/latex": [
       "$\\frac{\\partial f_1}{\\partial \\ddot{a}} = 0\n",
       "$"
      ],
      "text/plain": [
       "<IPython.core.display.Latex object>"
      ]
     },
     "metadata": {},
     "output_type": "display_data"
    },
    {
     "data": {
      "text/latex": [
       "$\\frac{\\partial f_2}{\\partial \\dot{x}} = 0\n",
       "$"
      ],
      "text/plain": [
       "<IPython.core.display.Latex object>"
      ]
     },
     "metadata": {},
     "output_type": "display_data"
    },
    {
     "data": {
      "text/latex": [
       "$\\frac{\\partial f_2}{\\partial \\dot{z}} = 0\n",
       "$"
      ],
      "text/plain": [
       "<IPython.core.display.Latex object>"
      ]
     },
     "metadata": {},
     "output_type": "display_data"
    },
    {
     "data": {
      "text/latex": [
       "$\\frac{\\partial f_2}{\\partial \\dot{a}} = 0\n",
       "$"
      ],
      "text/plain": [
       "<IPython.core.display.Latex object>"
      ]
     },
     "metadata": {},
     "output_type": "display_data"
    },
    {
     "data": {
      "text/latex": [
       "$\\frac{\\partial f_2}{\\partial \\ddot{x}} = 0\n",
       "$"
      ],
      "text/plain": [
       "<IPython.core.display.Latex object>"
      ]
     },
     "metadata": {},
     "output_type": "display_data"
    },
    {
     "data": {
      "text/latex": [
       "$\\frac{\\partial f_2}{\\partial \\ddot{z}} = 1\n",
       "$"
      ],
      "text/plain": [
       "<IPython.core.display.Latex object>"
      ]
     },
     "metadata": {},
     "output_type": "display_data"
    },
    {
     "data": {
      "text/latex": [
       "$\\frac{\\partial f_2}{\\partial \\ddot{a}} = 0\n",
       "$"
      ],
      "text/plain": [
       "<IPython.core.display.Latex object>"
      ]
     },
     "metadata": {},
     "output_type": "display_data"
    },
    {
     "data": {
      "text/latex": [
       "$\\frac{\\partial f_3}{\\partial \\dot{x}} = 0\n",
       "$"
      ],
      "text/plain": [
       "<IPython.core.display.Latex object>"
      ]
     },
     "metadata": {},
     "output_type": "display_data"
    },
    {
     "data": {
      "text/latex": [
       "$\\frac{\\partial f_3}{\\partial \\dot{z}} = 0\n",
       "$"
      ],
      "text/plain": [
       "<IPython.core.display.Latex object>"
      ]
     },
     "metadata": {},
     "output_type": "display_data"
    },
    {
     "data": {
      "text/latex": [
       "$\\frac{\\partial f_3}{\\partial \\dot{a}} = 0\n",
       "$"
      ],
      "text/plain": [
       "<IPython.core.display.Latex object>"
      ]
     },
     "metadata": {},
     "output_type": "display_data"
    },
    {
     "data": {
      "text/latex": [
       "$\\frac{\\partial f_3}{\\partial \\ddot{x}} = 0\n",
       "$"
      ],
      "text/plain": [
       "<IPython.core.display.Latex object>"
      ]
     },
     "metadata": {},
     "output_type": "display_data"
    },
    {
     "data": {
      "text/latex": [
       "$\\frac{\\partial f_3}{\\partial \\ddot{z}} = 0\n",
       "$"
      ],
      "text/plain": [
       "<IPython.core.display.Latex object>"
      ]
     },
     "metadata": {},
     "output_type": "display_data"
    },
    {
     "data": {
      "text/latex": [
       "$\\frac{\\partial f_3}{\\partial \\ddot{a}} = 1\n",
       "$"
      ],
      "text/plain": [
       "<IPython.core.display.Latex object>"
      ]
     },
     "metadata": {},
     "output_type": "display_data"
    },
    {
     "data": {
      "text/latex": [
       "$\\frac{\\partial f_4}{\\partial \\dot{x}} = 0\n",
       "$"
      ],
      "text/plain": [
       "<IPython.core.display.Latex object>"
      ]
     },
     "metadata": {},
     "output_type": "display_data"
    },
    {
     "data": {
      "text/latex": [
       "$\\frac{\\partial f_4}{\\partial \\dot{z}} = 0\n",
       "$"
      ],
      "text/plain": [
       "<IPython.core.display.Latex object>"
      ]
     },
     "metadata": {},
     "output_type": "display_data"
    },
    {
     "data": {
      "text/latex": [
       "$\\frac{\\partial f_4}{\\partial \\dot{a}} = \\frac{- F_{T} \\sin{\\left(a - \\theta_{0} \\right)} + \\left(B - g m\\right) \\cos{\\left(a \\right)}}{m}\n",
       "$"
      ],
      "text/plain": [
       "<IPython.core.display.Latex object>"
      ]
     },
     "metadata": {},
     "output_type": "display_data"
    },
    {
     "data": {
      "text/latex": [
       "$\\frac{\\partial f_4}{\\partial \\ddot{x}} = \\frac{\\rho \\left(1.0 C_{l\\alpha} \\kappa \\left(C_{d0} \\left(\\dot{a} r_{zi} + \\dot{x}\\right) - C_{l\\alpha} \\kappa \\operatorname{atan}{\\left(\\frac{\\dot{a} r_{xi} - \\dot{z}}{\\dot{a} r_{zi} + \\dot{x}} \\right)}\\right) \\left(\\left(- \\dot{a} r_{xi} + \\dot{z}\\right) \\left(\\dot{a} r_{zi} + \\dot{x}\\right) + \\left(\\left(- \\dot{a} r_{xi} + \\dot{z}\\right)^{2} + \\left(\\dot{a} r_{zi} + \\dot{x}\\right)^{2}\\right) \\operatorname{atan}{\\left(\\frac{- \\dot{a} r_{xi} + \\dot{z}}{\\dot{a} r_{zi} + \\dot{x}} \\right)}\\right) \\left(\\left(\\dot{a} r_{xi} - \\dot{z}\\right)^{2} + \\left(\\dot{a} r_{zi} + \\dot{x}\\right)^{2}\\right)^{2} - 1.0 \\left(C_{d0} \\left(\\dot{a} r_{zi} + \\dot{x}\\right) - C_{l\\alpha} \\kappa \\operatorname{atan}{\\left(\\frac{\\dot{a} r_{xi} - \\dot{z}}{\\dot{a} r_{zi} + \\dot{x}} \\right)}\\right)^{2} \\left(\\dot{a} r_{zi} + \\dot{x}\\right)^{2} \\left(\\left(- \\dot{a} r_{xi} + \\dot{z}\\right)^{2} + \\left(\\dot{a} r_{zi} + \\dot{x}\\right)^{2}\\right) \\left(\\left(\\dot{a} r_{xi} - \\dot{z}\\right)^{2} + \\left(\\dot{a} r_{zi} + \\dot{x}\\right)^{2}\\right) + 0.444444444444444 \\pi^{2} \\left(\\dot{a} r_{xi} - \\dot{z}\\right) \\left(\\dot{a} r_{zi} + \\dot{x}\\right)^{3} \\left(\\left(\\dot{a} r_{xh} - \\dot{z}\\right)^{2} + \\left(\\dot{a} r_{zh} + \\dot{x}\\right)^{2}\\right) \\left(\\left(- \\dot{a} r_{xi} + \\dot{z}\\right)^{2} + \\left(\\dot{a} r_{zi} + \\dot{x}\\right)^{2}\\right) \\operatorname{atan}{\\left(\\frac{\\dot{a} r_{xi} - \\dot{z}}{\\dot{a} r_{zi} + \\dot{x}} \\right)} - 0.444444444444444 \\pi^{2} \\left(\\dot{a} r_{zh} + \\dot{x}\\right) \\left(\\dot{a} r_{zi} + \\dot{x}\\right)^{3} \\left(\\left(- \\dot{a} r_{xi} + \\dot{z}\\right)^{2} + \\left(\\dot{a} r_{zi} + \\dot{x}\\right)^{2}\\right) \\left(\\left(\\dot{a} r_{xi} - \\dot{z}\\right)^{2} + \\left(\\dot{a} r_{zi} + \\dot{x}\\right)^{2}\\right) \\operatorname{atan}^{2}{\\left(\\frac{\\dot{a} r_{xi} - \\dot{z}}{\\dot{a} r_{zi} + \\dot{x}} \\right)}\\right)}{\\pi e m \\left(\\dot{a} r_{zi} + \\dot{x}\\right)^{3} \\left(\\left(- \\dot{a} r_{xi} + \\dot{z}\\right)^{2} + \\left(\\dot{a} r_{zi} + \\dot{x}\\right)^{2}\\right) \\left(\\left(\\dot{a} r_{xi} - \\dot{z}\\right)^{2} + \\left(\\dot{a} r_{zi} + \\dot{x}\\right)^{2}\\right)}\n",
       "$"
      ],
      "text/plain": [
       "<IPython.core.display.Latex object>"
      ]
     },
     "metadata": {},
     "output_type": "display_data"
    },
    {
     "data": {
      "text/latex": [
       "$\\frac{\\partial f_4}{\\partial \\ddot{z}} = \\frac{- 1.0 C_{l\\alpha} \\kappa \\rho \\left(C_{d0} \\left(\\dot{a} r_{zi} + \\dot{x}\\right) - C_{l\\alpha} \\kappa \\operatorname{atan}{\\left(\\frac{\\dot{a} r_{xi} - \\dot{z}}{\\dot{a} r_{zi} + \\dot{x}} \\right)}\\right) \\left(\\dot{a} r_{zi} + \\dot{x}\\right) \\left(\\left(\\dot{a} r_{xi} - \\dot{z}\\right)^{2} + \\left(\\dot{a} r_{zi} + \\dot{x}\\right)^{2}\\right) - \\pi \\dot{a} e m \\left(\\dot{a} r_{zi} + \\dot{x}\\right)^{2} \\left(\\left(\\dot{a} r_{xi} - \\dot{z}\\right)^{2} + \\left(\\dot{a} r_{zi} + \\dot{x}\\right)^{2}\\right) + 1.0 \\rho \\left(C_{d0} \\left(\\dot{a} r_{zi} + \\dot{x}\\right) - C_{l\\alpha} \\kappa \\operatorname{atan}{\\left(\\frac{\\dot{a} r_{xi} - \\dot{z}}{\\dot{a} r_{zi} + \\dot{x}} \\right)}\\right)^{2} \\left(\\dot{a} r_{xi} - \\dot{z}\\right) \\left(\\left(\\dot{a} r_{xi} - \\dot{z}\\right)^{2} + \\left(\\dot{a} r_{zi} + \\dot{x}\\right)^{2}\\right) + 0.444444444444444 \\pi^{2} \\rho \\left(\\dot{a} r_{xh} - \\dot{z}\\right) \\left(\\dot{a} r_{zi} + \\dot{x}\\right)^{2} \\left(\\left(\\dot{a} r_{xi} - \\dot{z}\\right)^{2} + \\left(\\dot{a} r_{zi} + \\dot{x}\\right)^{2}\\right) \\operatorname{atan}^{2}{\\left(\\frac{\\dot{a} r_{xi} - \\dot{z}}{\\dot{a} r_{zi} + \\dot{x}} \\right)} + 0.444444444444444 \\pi^{2} \\rho \\left(\\dot{a} r_{zi} + \\dot{x}\\right)^{3} \\left(\\left(\\dot{a} r_{xh} - \\dot{z}\\right)^{2} + \\left(\\dot{a} r_{zh} + \\dot{x}\\right)^{2}\\right) \\operatorname{atan}{\\left(\\frac{\\dot{a} r_{xi} - \\dot{z}}{\\dot{a} r_{zi} + \\dot{x}} \\right)}}{\\pi e m \\left(\\dot{a} r_{zi} + \\dot{x}\\right)^{2} \\left(\\left(\\dot{a} r_{xi} - \\dot{z}\\right)^{2} + \\left(\\dot{a} r_{zi} + \\dot{x}\\right)^{2}\\right)}\n",
       "$"
      ],
      "text/plain": [
       "<IPython.core.display.Latex object>"
      ]
     },
     "metadata": {},
     "output_type": "display_data"
    },
    {
     "data": {
      "text/latex": [
       "$\\frac{\\partial f_4}{\\partial \\ddot{a}} = \\frac{1.0 C_{l\\alpha} \\kappa \\rho \\left(C_{d0} \\left(\\dot{a} r_{zi} + \\dot{x}\\right) - C_{l\\alpha} \\kappa \\operatorname{atan}{\\left(\\frac{\\dot{a} r_{xi} - \\dot{z}}{\\dot{a} r_{zi} + \\dot{x}} \\right)}\\right) \\left(r_{zi} \\left(\\left(- \\dot{a} r_{xi} + \\dot{z}\\right)^{2} + \\left(\\dot{a} r_{zi} + \\dot{x}\\right)^{2}\\right) \\operatorname{atan}{\\left(\\frac{- \\dot{a} r_{xi} + \\dot{z}}{\\dot{a} r_{zi} + \\dot{x}} \\right)} + \\left(\\dot{a} r_{zi} + \\dot{x}\\right) \\left(r_{xi} \\left(\\dot{a} r_{zi} + \\dot{x}\\right) + r_{zi} \\left(- \\dot{a} r_{xi} + \\dot{z}\\right)\\right)\\right) \\left(\\left(\\dot{a} r_{xi} - \\dot{z}\\right)^{2} + \\left(\\dot{a} r_{zi} + \\dot{x}\\right)^{2}\\right)^{2} - \\pi e m \\dot{z} \\left(\\dot{a} r_{zi} + \\dot{x}\\right)^{3} \\left(\\left(- \\dot{a} r_{xi} + \\dot{z}\\right)^{2} + \\left(\\dot{a} r_{zi} + \\dot{x}\\right)^{2}\\right) \\left(\\left(\\dot{a} r_{xi} - \\dot{z}\\right)^{2} + \\left(\\dot{a} r_{zi} + \\dot{x}\\right)^{2}\\right) + 1.0 \\rho \\left(C_{d0} \\left(\\dot{a} r_{zi} + \\dot{x}\\right) - C_{l\\alpha} \\kappa \\operatorname{atan}{\\left(\\frac{\\dot{a} r_{xi} - \\dot{z}}{\\dot{a} r_{zi} + \\dot{x}} \\right)}\\right)^{2} \\left(\\dot{a} r_{zi} + \\dot{x}\\right) \\left(r_{xi} \\left(- \\dot{a} r_{xi} + \\dot{z}\\right) - r_{zi} \\left(\\dot{a} r_{zi} + \\dot{x}\\right)\\right) \\left(\\left(- \\dot{a} r_{xi} + \\dot{z}\\right)^{2} + \\left(\\dot{a} r_{zi} + \\dot{x}\\right)^{2}\\right) \\left(\\left(\\dot{a} r_{xi} - \\dot{z}\\right)^{2} + \\left(\\dot{a} r_{zi} + \\dot{x}\\right)^{2}\\right) + 0.444444444444444 \\pi^{2} \\rho \\left(\\dot{a} r_{zi} + \\dot{x}\\right)^{3} \\left(r_{xh} \\left(- \\dot{a} r_{xh} + \\dot{z}\\right) - r_{zh} \\left(\\dot{a} r_{zh} + \\dot{x}\\right)\\right) \\left(\\left(- \\dot{a} r_{xi} + \\dot{z}\\right)^{2} + \\left(\\dot{a} r_{zi} + \\dot{x}\\right)^{2}\\right) \\left(\\left(\\dot{a} r_{xi} - \\dot{z}\\right)^{2} + \\left(\\dot{a} r_{zi} + \\dot{x}\\right)^{2}\\right) \\operatorname{atan}^{2}{\\left(\\frac{\\dot{a} r_{xi} - \\dot{z}}{\\dot{a} r_{zi} + \\dot{x}} \\right)} - 0.444444444444444 \\pi^{2} \\rho \\left(\\dot{a} r_{zi} + \\dot{x}\\right)^{3} \\left(r_{xi} \\left(\\dot{a} r_{zi} + \\dot{x}\\right) + r_{zi} \\left(- \\dot{a} r_{xi} + \\dot{z}\\right)\\right) \\left(\\left(\\dot{a} r_{xh} - \\dot{z}\\right)^{2} + \\left(\\dot{a} r_{zh} + \\dot{x}\\right)^{2}\\right) \\left(\\left(- \\dot{a} r_{xi} + \\dot{z}\\right)^{2} + \\left(\\dot{a} r_{zi} + \\dot{x}\\right)^{2}\\right) \\operatorname{atan}{\\left(\\frac{\\dot{a} r_{xi} - \\dot{z}}{\\dot{a} r_{zi} + \\dot{x}} \\right)}}{\\pi e m \\left(\\dot{a} r_{zi} + \\dot{x}\\right)^{3} \\left(\\left(- \\dot{a} r_{xi} + \\dot{z}\\right)^{2} + \\left(\\dot{a} r_{zi} + \\dot{x}\\right)^{2}\\right) \\left(\\left(\\dot{a} r_{xi} - \\dot{z}\\right)^{2} + \\left(\\dot{a} r_{zi} + \\dot{x}\\right)^{2}\\right)}\n",
       "$"
      ],
      "text/plain": [
       "<IPython.core.display.Latex object>"
      ]
     },
     "metadata": {},
     "output_type": "display_data"
    },
    {
     "data": {
      "text/latex": [
       "$\\frac{\\partial f_5}{\\partial \\dot{x}} = 0\n",
       "$"
      ],
      "text/plain": [
       "<IPython.core.display.Latex object>"
      ]
     },
     "metadata": {},
     "output_type": "display_data"
    },
    {
     "data": {
      "text/latex": [
       "$\\frac{\\partial f_5}{\\partial \\dot{z}} = 0\n",
       "$"
      ],
      "text/plain": [
       "<IPython.core.display.Latex object>"
      ]
     },
     "metadata": {},
     "output_type": "display_data"
    },
    {
     "data": {
      "text/latex": [
       "$\\frac{\\partial f_5}{\\partial \\dot{a}} = \\frac{- F_{T} \\cos{\\left(a - \\theta_{0} \\right)} + \\left(B - g m\\right) \\sin{\\left(a \\right)}}{m}\n",
       "$"
      ],
      "text/plain": [
       "<IPython.core.display.Latex object>"
      ]
     },
     "metadata": {},
     "output_type": "display_data"
    },
    {
     "data": {
      "text/latex": [
       "$\\frac{\\partial f_5}{\\partial \\ddot{x}} = \\frac{0.5 A C_{l\\alpha} \\kappa \\rho \\left(\\dot{a} r_{xi} - \\dot{z}\\right) - 1.0 A C_{l\\alpha} \\kappa \\rho \\left(\\dot{a} r_{zi} + \\dot{x}\\right) \\operatorname{atan}{\\left(\\frac{\\dot{a} r_{xi} - \\dot{z}}{\\dot{a} r_{zi} + \\dot{x}} \\right)} + \\dot{a}}{m}\n",
       "$"
      ],
      "text/plain": [
       "<IPython.core.display.Latex object>"
      ]
     },
     "metadata": {},
     "output_type": "display_data"
    },
    {
     "data": {
      "text/latex": [
       "$\\frac{\\partial f_5}{\\partial \\ddot{z}} = \\frac{A C_{l\\alpha} \\kappa \\rho \\left(0.5 \\dot{a} r_{zi} + 0.5 \\dot{x} + 1.0 \\left(\\dot{a} r_{xi} - \\dot{z}\\right) \\operatorname{atan}{\\left(\\frac{\\dot{a} r_{xi} - \\dot{z}}{\\dot{a} r_{zi} + \\dot{x}} \\right)}\\right)}{m}\n",
       "$"
      ],
      "text/plain": [
       "<IPython.core.display.Latex object>"
      ]
     },
     "metadata": {},
     "output_type": "display_data"
    },
    {
     "data": {
      "text/latex": [
       "$\\frac{\\partial f_5}{\\partial \\ddot{a}} = \\frac{- 1.0 A C_{l\\alpha} \\kappa \\rho \\left(r_{xi} \\left(\\dot{a} r_{xi} - \\dot{z}\\right) + r_{zi} \\left(\\dot{a} r_{zi} + \\dot{x}\\right)\\right) \\operatorname{atan}{\\left(\\frac{\\dot{a} r_{xi} - \\dot{z}}{\\dot{a} r_{zi} + \\dot{x}} \\right)} - 0.5 A C_{l\\alpha} \\kappa \\rho \\left(r_{xi} \\left(\\dot{a} r_{zi} + \\dot{x}\\right) - r_{zi} \\left(\\dot{a} r_{xi} - \\dot{z}\\right)\\right) + \\dot{x}}{m}\n",
       "$"
      ],
      "text/plain": [
       "<IPython.core.display.Latex object>"
      ]
     },
     "metadata": {},
     "output_type": "display_data"
    },
    {
     "data": {
      "text/latex": [
       "$\\frac{\\partial f_6}{\\partial \\dot{x}} = 0\n",
       "$"
      ],
      "text/plain": [
       "<IPython.core.display.Latex object>"
      ]
     },
     "metadata": {},
     "output_type": "display_data"
    },
    {
     "data": {
      "text/latex": [
       "$\\frac{\\partial f_6}{\\partial \\dot{z}} = 0\n",
       "$"
      ],
      "text/plain": [
       "<IPython.core.display.Latex object>"
      ]
     },
     "metadata": {},
     "output_type": "display_data"
    },
    {
     "data": {
      "text/latex": [
       "$\\frac{\\partial f_6}{\\partial \\dot{a}} = \\frac{- B r_{xb} \\sin{\\left(a \\right)} - F_{T} r_{xt} \\cos{\\left(a - \\theta_{0} \\right)} + F_{T} r_{zt} \\sin{\\left(a - \\theta_{0} \\right)}}{I_{yy}}\n",
       "$"
      ],
      "text/plain": [
       "<IPython.core.display.Latex object>"
      ]
     },
     "metadata": {},
     "output_type": "display_data"
    },
    {
     "data": {
      "text/latex": [
       "$\\frac{\\partial f_6}{\\partial \\ddot{x}} = \\frac{1.0 \\rho \\left(\\dot{a} r_{zi} + \\dot{x}\\right) \\left(\\pi A C_{l\\alpha} e \\kappa r_{xi} - r_{zi} \\left(\\pi A C_{d0} e + C_{l\\alpha}^{2} \\kappa^{2}\\right)\\right)}{\\pi I_{yy} e}\n",
       "$"
      ],
      "text/plain": [
       "<IPython.core.display.Latex object>"
      ]
     },
     "metadata": {},
     "output_type": "display_data"
    },
    {
     "data": {
      "text/latex": [
       "$\\frac{\\partial f_6}{\\partial \\ddot{z}} = - \\frac{1.0 \\rho \\left(\\dot{a} r_{xi} - \\dot{z}\\right) \\left(\\pi A C_{l\\alpha} e \\kappa r_{xi} - r_{zi} \\left(\\pi A C_{d0} e + C_{l\\alpha}^{2} \\kappa^{2}\\right)\\right)}{\\pi I_{yy} e}\n",
       "$"
      ],
      "text/plain": [
       "<IPython.core.display.Latex object>"
      ]
     },
     "metadata": {},
     "output_type": "display_data"
    },
    {
     "data": {
      "text/latex": [
       "$\\frac{\\partial f_6}{\\partial \\ddot{a}} = \\frac{1.0 \\rho \\left(r_{xi} \\left(\\dot{a} r_{xi} - \\dot{z}\\right) + r_{zi} \\left(\\dot{a} r_{zi} + \\dot{x}\\right)\\right) \\left(\\pi A C_{l\\alpha} e \\kappa r_{xi} - r_{zi} \\left(\\pi A C_{d0} e + C_{l\\alpha}^{2} \\kappa^{2}\\right)\\right)}{\\pi I_{yy} e}\n",
       "$"
      ],
      "text/plain": [
       "<IPython.core.display.Latex object>"
      ]
     },
     "metadata": {},
     "output_type": "display_data"
    }
   ],
   "source": [
    "# Compute the Jacobian matrix\n",
    "Jacobian = F.jacobian(X)\n",
    "\n",
    "# Display partial derivatives\n",
    "for i in range(Jacobian.shape[0]):\n",
    "    for j in range(Jacobian.shape[1]):\n",
    "        partial = sp.simplify(Jacobian[i, j])\n",
    "        disp_partial = f\"\\\\frac{{\\\\partial f_{i+1}}}{{\\\\partial {sp.latex(X_dot[j])}}} = {sp.latex(partial)}\\n\"\n",
    "        display(Latex(\"$\" + disp_partial + \"$\"))"
   ]
  },
  {
   "cell_type": "code",
   "execution_count": 40,
   "metadata": {},
   "outputs": [
    {
     "data": {
      "text/latex": [
       "$\\left[\\begin{matrix}0 & 0 & 0 & 1 & 0 & 0\\\\0 & 0 & 0 & 0 & 1 & 0\\\\0 & 0 & 0 & 0 & 0 & 1\\\\0 & 0 & \\frac{- F_{T} \\sin{\\left(a - \\theta_{0} \\right)} + \\left(B - g m\\right) \\cos{\\left(a \\right)}}{m} & \\frac{- \\frac{0.5 \\rho \\left(C_{d0} + \\frac{C_{l\\alpha} \\kappa \\operatorname{atan}{\\left(\\frac{- \\dot{a} r_{xi} + \\dot{z}}{\\dot{a} r_{zi} + \\dot{x}} \\right)}}{\\dot{a} r_{zi} + \\dot{x}}\\right)^{2} \\left(2 \\dot{a} r_{zi} + 2 \\dot{x}\\right)}{\\pi e} - \\frac{0.5 \\rho \\left(C_{d0} + \\frac{C_{l\\alpha} \\kappa \\operatorname{atan}{\\left(\\frac{- \\dot{a} r_{xi} + \\dot{z}}{\\dot{a} r_{zi} + \\dot{x}} \\right)}}{\\dot{a} r_{zi} + \\dot{x}}\\right) \\left(- \\frac{2 C_{l\\alpha} \\kappa \\left(- \\dot{a} r_{xi} + \\dot{z}\\right)}{\\left(\\dot{a} r_{zi} + \\dot{x}\\right)^{3} \\left(\\frac{\\left(- \\dot{a} r_{xi} + \\dot{z}\\right)^{2}}{\\left(\\dot{a} r_{zi} + \\dot{x}\\right)^{2}} + 1\\right)} - \\frac{2 C_{l\\alpha} \\kappa \\operatorname{atan}{\\left(\\frac{- \\dot{a} r_{xi} + \\dot{z}}{\\dot{a} r_{zi} + \\dot{x}} \\right)}}{\\left(\\dot{a} r_{zi} + \\dot{x}\\right)^{2}}\\right) \\left(\\left(- \\dot{a} r_{xi} + \\dot{z}\\right)^{2} + \\left(\\dot{a} r_{zi} + \\dot{x}\\right)^{2}\\right)}{\\pi e} + \\frac{0.444444444444444 \\pi \\rho \\left(- \\dot{a} r_{xi} + \\dot{z}\\right) \\left(\\left(- \\dot{a} r_{xh} + \\dot{z}\\right)^{2} + \\left(\\dot{a} r_{zh} + \\dot{x}\\right)^{2}\\right) \\operatorname{atan}{\\left(\\frac{- \\dot{a} r_{xi} + \\dot{z}}{\\dot{a} r_{zi} + \\dot{x}} \\right)}}{e \\left(\\dot{a} r_{zi} + \\dot{x}\\right)^{2} \\left(\\frac{\\left(- \\dot{a} r_{xi} + \\dot{z}\\right)^{2}}{\\left(\\dot{a} r_{zi} + \\dot{x}\\right)^{2}} + 1\\right)} - \\frac{0.222222222222222 \\pi \\rho \\left(2 \\dot{a} r_{zh} + 2 \\dot{x}\\right) \\operatorname{atan}^{2}{\\left(\\frac{- \\dot{a} r_{xi} + \\dot{z}}{\\dot{a} r_{zi} + \\dot{x}} \\right)}}{e}}{m} & - \\dot{a} + \\frac{- \\frac{1.0 C_{l\\alpha} \\kappa \\rho \\left(C_{d0} + \\frac{C_{l\\alpha} \\kappa \\operatorname{atan}{\\left(\\frac{- \\dot{a} r_{xi} + \\dot{z}}{\\dot{a} r_{zi} + \\dot{x}} \\right)}}{\\dot{a} r_{zi} + \\dot{x}}\\right) \\left(\\left(- \\dot{a} r_{xi} + \\dot{z}\\right)^{2} + \\left(\\dot{a} r_{zi} + \\dot{x}\\right)^{2}\\right)}{\\pi e \\left(\\dot{a} r_{zi} + \\dot{x}\\right)^{2} \\left(\\frac{\\left(- \\dot{a} r_{xi} + \\dot{z}\\right)^{2}}{\\left(\\dot{a} r_{zi} + \\dot{x}\\right)^{2}} + 1\\right)} - \\frac{0.5 \\rho \\left(C_{d0} + \\frac{C_{l\\alpha} \\kappa \\operatorname{atan}{\\left(\\frac{- \\dot{a} r_{xi} + \\dot{z}}{\\dot{a} r_{zi} + \\dot{x}} \\right)}}{\\dot{a} r_{zi} + \\dot{x}}\\right)^{2} \\left(- 2 \\dot{a} r_{xi} + 2 \\dot{z}\\right)}{\\pi e} - \\frac{0.222222222222222 \\pi \\rho \\left(- 2 \\dot{a} r_{xh} + 2 \\dot{z}\\right) \\operatorname{atan}^{2}{\\left(\\frac{- \\dot{a} r_{xi} + \\dot{z}}{\\dot{a} r_{zi} + \\dot{x}} \\right)}}{e} - \\frac{0.444444444444444 \\pi \\rho \\left(\\left(- \\dot{a} r_{xh} + \\dot{z}\\right)^{2} + \\left(\\dot{a} r_{zh} + \\dot{x}\\right)^{2}\\right) \\operatorname{atan}{\\left(\\frac{- \\dot{a} r_{xi} + \\dot{z}}{\\dot{a} r_{zi} + \\dot{x}} \\right)}}{e \\left(\\dot{a} r_{zi} + \\dot{x}\\right) \\left(\\frac{\\left(- \\dot{a} r_{xi} + \\dot{z}\\right)^{2}}{\\left(\\dot{a} r_{zi} + \\dot{x}\\right)^{2}} + 1\\right)}}{m} & - \\dot{z} + \\frac{- \\frac{0.5 \\rho \\left(C_{d0} + \\frac{C_{l\\alpha} \\kappa \\operatorname{atan}{\\left(\\frac{- \\dot{a} r_{xi} + \\dot{z}}{\\dot{a} r_{zi} + \\dot{x}} \\right)}}{\\dot{a} r_{zi} + \\dot{x}}\\right)^{2} \\left(- 2 r_{xi} \\left(- \\dot{a} r_{xi} + \\dot{z}\\right) + 2 r_{zi} \\left(\\dot{a} r_{zi} + \\dot{x}\\right)\\right)}{\\pi e} - \\frac{0.5 \\rho \\left(C_{d0} + \\frac{C_{l\\alpha} \\kappa \\operatorname{atan}{\\left(\\frac{- \\dot{a} r_{xi} + \\dot{z}}{\\dot{a} r_{zi} + \\dot{x}} \\right)}}{\\dot{a} r_{zi} + \\dot{x}}\\right) \\left(- \\frac{2 C_{l\\alpha} \\kappa r_{zi} \\operatorname{atan}{\\left(\\frac{- \\dot{a} r_{xi} + \\dot{z}}{\\dot{a} r_{zi} + \\dot{x}} \\right)}}{\\left(\\dot{a} r_{zi} + \\dot{x}\\right)^{2}} + \\frac{2 C_{l\\alpha} \\kappa \\left(- \\frac{r_{xi}}{\\dot{a} r_{zi} + \\dot{x}} - \\frac{r_{zi} \\left(- \\dot{a} r_{xi} + \\dot{z}\\right)}{\\left(\\dot{a} r_{zi} + \\dot{x}\\right)^{2}}\\right)}{\\left(\\dot{a} r_{zi} + \\dot{x}\\right) \\left(\\frac{\\left(- \\dot{a} r_{xi} + \\dot{z}\\right)^{2}}{\\left(\\dot{a} r_{zi} + \\dot{x}\\right)^{2}} + 1\\right)}\\right) \\left(\\left(- \\dot{a} r_{xi} + \\dot{z}\\right)^{2} + \\left(\\dot{a} r_{zi} + \\dot{x}\\right)^{2}\\right)}{\\pi e} - \\frac{0.222222222222222 \\pi \\rho \\left(- 2 r_{xh} \\left(- \\dot{a} r_{xh} + \\dot{z}\\right) + 2 r_{zh} \\left(\\dot{a} r_{zh} + \\dot{x}\\right)\\right) \\operatorname{atan}^{2}{\\left(\\frac{- \\dot{a} r_{xi} + \\dot{z}}{\\dot{a} r_{zi} + \\dot{x}} \\right)}}{e} - \\frac{0.444444444444444 \\pi \\rho \\left(- \\frac{r_{xi}}{\\dot{a} r_{zi} + \\dot{x}} - \\frac{r_{zi} \\left(- \\dot{a} r_{xi} + \\dot{z}\\right)}{\\left(\\dot{a} r_{zi} + \\dot{x}\\right)^{2}}\\right) \\left(\\left(- \\dot{a} r_{xh} + \\dot{z}\\right)^{2} + \\left(\\dot{a} r_{zh} + \\dot{x}\\right)^{2}\\right) \\operatorname{atan}{\\left(\\frac{- \\dot{a} r_{xi} + \\dot{z}}{\\dot{a} r_{zi} + \\dot{x}} \\right)}}{e \\left(\\frac{\\left(- \\dot{a} r_{xi} + \\dot{z}\\right)^{2}}{\\left(\\dot{a} r_{zi} + \\dot{x}\\right)^{2}} + 1\\right)}}{m}\\\\0 & 0 & \\frac{- F_{T} \\cos{\\left(a - \\theta_{0} \\right)} - \\left(- B + g m\\right) \\sin{\\left(a \\right)}}{m} & \\frac{- \\frac{0.5 A C_{l\\alpha} \\kappa \\rho \\left(- \\dot{a} r_{xi} + \\dot{z}\\right) \\left(\\left(- \\dot{a} r_{xi} + \\dot{z}\\right)^{2} + \\left(\\dot{a} r_{zi} + \\dot{x}\\right)^{2}\\right)}{\\left(\\dot{a} r_{zi} + \\dot{x}\\right)^{2} \\left(\\frac{\\left(- \\dot{a} r_{xi} + \\dot{z}\\right)^{2}}{\\left(\\dot{a} r_{zi} + \\dot{x}\\right)^{2}} + 1\\right)} + 0.5 A C_{l\\alpha} \\kappa \\rho \\left(2 \\dot{a} r_{zi} + 2 \\dot{x}\\right) \\operatorname{atan}{\\left(\\frac{- \\dot{a} r_{xi} + \\dot{z}}{\\dot{a} r_{zi} + \\dot{x}} \\right)} + \\dot{a}}{m} & \\frac{0.5 A C_{l\\alpha} \\kappa \\rho \\left(- 2 \\dot{a} r_{xi} + 2 \\dot{z}\\right) \\operatorname{atan}{\\left(\\frac{- \\dot{a} r_{xi} + \\dot{z}}{\\dot{a} r_{zi} + \\dot{x}} \\right)} + \\frac{0.5 A C_{l\\alpha} \\kappa \\rho \\left(\\left(- \\dot{a} r_{xi} + \\dot{z}\\right)^{2} + \\left(\\dot{a} r_{zi} + \\dot{x}\\right)^{2}\\right)}{\\left(\\dot{a} r_{zi} + \\dot{x}\\right) \\left(\\frac{\\left(- \\dot{a} r_{xi} + \\dot{z}\\right)^{2}}{\\left(\\dot{a} r_{zi} + \\dot{x}\\right)^{2}} + 1\\right)}}{m} & \\frac{0.5 A C_{l\\alpha} \\kappa \\rho \\left(- 2 r_{xi} \\left(- \\dot{a} r_{xi} + \\dot{z}\\right) + 2 r_{zi} \\left(\\dot{a} r_{zi} + \\dot{x}\\right)\\right) \\operatorname{atan}{\\left(\\frac{- \\dot{a} r_{xi} + \\dot{z}}{\\dot{a} r_{zi} + \\dot{x}} \\right)} + \\frac{0.5 A C_{l\\alpha} \\kappa \\rho \\left(- \\frac{r_{xi}}{\\dot{a} r_{zi} + \\dot{x}} - \\frac{r_{zi} \\left(- \\dot{a} r_{xi} + \\dot{z}\\right)}{\\left(\\dot{a} r_{zi} + \\dot{x}\\right)^{2}}\\right) \\left(\\left(- \\dot{a} r_{xi} + \\dot{z}\\right)^{2} + \\left(\\dot{a} r_{zi} + \\dot{x}\\right)^{2}\\right)}{\\frac{\\left(- \\dot{a} r_{xi} + \\dot{z}\\right)^{2}}{\\left(\\dot{a} r_{zi} + \\dot{x}\\right)^{2}} + 1} + \\dot{x}}{m}\\\\0 & 0 & \\frac{- B r_{xb} \\sin{\\left(a \\right)} + F_{T} \\left(- r_{xt} \\cos{\\left(a - \\theta_{0} \\right)} + r_{zt} \\sin{\\left(a - \\theta_{0} \\right)}\\right)}{I_{yy}} & \\frac{0.5 A \\rho \\left(2 \\dot{a} r_{zi} + 2 \\dot{x}\\right) \\left(C_{l\\alpha} \\kappa r_{xi} - r_{zi} \\left(C_{d0} + \\frac{C_{l\\alpha}^{2} \\kappa^{2}}{\\pi A e}\\right)\\right)}{I_{yy}} & \\frac{0.5 A \\rho \\left(- 2 \\dot{a} r_{xi} + 2 \\dot{z}\\right) \\left(C_{l\\alpha} \\kappa r_{xi} - r_{zi} \\left(C_{d0} + \\frac{C_{l\\alpha}^{2} \\kappa^{2}}{\\pi A e}\\right)\\right)}{I_{yy}} & \\frac{0.5 A \\rho \\left(- 2 r_{xi} \\left(- \\dot{a} r_{xi} + \\dot{z}\\right) + 2 r_{zi} \\left(\\dot{a} r_{zi} + \\dot{x}\\right)\\right) \\left(C_{l\\alpha} \\kappa r_{xi} - r_{zi} \\left(C_{d0} + \\frac{C_{l\\alpha}^{2} \\kappa^{2}}{\\pi A e}\\right)\\right)}{I_{yy}}\\end{matrix}\\right]$"
      ],
      "text/plain": [
       "<IPython.core.display.Latex object>"
      ]
     },
     "metadata": {},
     "output_type": "display_data"
    }
   ],
   "source": [
    "display(Latex(f\"${sp.latex(Jacobian)}$\"))"
   ]
  },
  {
   "cell_type": "code",
   "execution_count": 42,
   "metadata": {},
   "outputs": [
    {
     "data": {
      "text/latex": [
       "$\\left[\\begin{matrix}\\dot{x}\\\\\\dot{z}\\\\\\dot{a}\\\\- \\dot{a} \\dot{z} + \\frac{F_{T} \\cos{\\left(a - \\theta_{0} \\right)} + \\left(B - g m\\right) \\sin{\\left(a \\right)} - \\frac{0.5 \\rho \\left(C_{d0} + \\frac{C_{l\\alpha} \\kappa \\operatorname{atan}{\\left(\\frac{- \\dot{a} r_{xi} + \\dot{z}}{\\dot{a} r_{zi} + \\dot{x}} \\right)}}{\\dot{a} r_{zi} + \\dot{x}}\\right)^{2} \\left(\\left(- \\dot{a} r_{xi} + \\dot{z}\\right)^{2} + \\left(\\dot{a} r_{zi} + \\dot{x}\\right)^{2}\\right)}{\\pi e} - \\frac{0.222222222222222 \\pi \\rho \\left(\\left(- \\dot{a} r_{xh} + \\dot{z}\\right)^{2} + \\left(\\dot{a} r_{zh} + \\dot{x}\\right)^{2}\\right) \\operatorname{atan}^{2}{\\left(\\frac{- \\dot{a} r_{xi} + \\dot{z}}{\\dot{a} r_{zi} + \\dot{x}} \\right)}}{e}}{m}\\\\\\frac{0.5 A C_{l\\alpha} \\kappa \\rho \\left(\\left(- \\dot{a} r_{xi} + \\dot{z}\\right)^{2} + \\left(\\dot{a} r_{zi} + \\dot{x}\\right)^{2}\\right) \\operatorname{atan}{\\left(\\frac{- \\dot{a} r_{xi} + \\dot{z}}{\\dot{a} r_{zi} + \\dot{x}} \\right)} - F_{T} \\sin{\\left(a - \\theta_{0} \\right)} + \\dot{a} \\dot{x} + \\left(- B + g m\\right) \\cos{\\left(a \\right)}}{m}\\\\\\frac{0.5 A \\rho \\left(C_{l\\alpha} \\kappa r_{xi} - r_{zi} \\left(C_{d0} + \\frac{C_{l\\alpha}^{2} \\kappa^{2}}{\\pi A e}\\right)\\right) \\left(\\left(- \\dot{a} r_{xi} + \\dot{z}\\right)^{2} + \\left(\\dot{a} r_{zi} + \\dot{x}\\right)^{2}\\right) + B r_{xb} \\cos{\\left(a \\right)} + F_{T} \\left(- r_{xt} \\sin{\\left(a - \\theta_{0} \\right)} - r_{zt} \\cos{\\left(a - \\theta_{0} \\right)}\\right)}{I_{yy}}\\end{matrix}\\right]$"
      ],
      "text/plain": [
       "<IPython.core.display.Latex object>"
      ]
     },
     "metadata": {},
     "output_type": "display_data"
    }
   ],
   "source": [
    "display(Latex(f'${sp.latex(F)}$'))"
   ]
  }
 ],
 "metadata": {
  "kernelspec": {
   "display_name": "base",
   "language": "python",
   "name": "python3"
  },
  "language_info": {
   "codemirror_mode": {
    "name": "ipython",
    "version": 3
   },
   "file_extension": ".py",
   "mimetype": "text/x-python",
   "name": "python",
   "nbconvert_exporter": "python",
   "pygments_lexer": "ipython3",
   "version": "3.8.19"
  }
 },
 "nbformat": 4,
 "nbformat_minor": 2
}
