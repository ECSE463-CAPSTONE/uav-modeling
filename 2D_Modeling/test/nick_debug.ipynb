{
 "cells": [
  {
   "cell_type": "markdown",
   "metadata": {},
   "source": [
    "# Set up "
   ]
  },
  {
   "cell_type": "code",
   "execution_count": 1,
   "metadata": {},
   "outputs": [],
   "source": [
    "import numpy as np\n",
    "import os\n",
    "import sys\n",
    "\n",
    "# Get the absolute path of the parent directory of the current file (which is 'test')\n",
    "# current_dir = os.getcwd()\n",
    "# model_path = os.path.join(current_dir, '..', 'model')\n",
    "# sys.path.append(model_path)\n",
    "sys.path.append('..')\n",
    "\n",
    "from model.Force import HullForce, ControlForce, TowingForce\n",
    "from model.RigidBody import RigidBody\n",
    "from model.Simulation import Simulation, Simulation_Result"
   ]
  },
  {
   "cell_type": "code",
   "execution_count": 2,
   "metadata": {},
   "outputs": [],
   "source": [
    "# Set parameters\n",
    "m = 0.877 # kg\n",
    "Vol = 733159.45810955 * 10 ** (-9) #m3\n",
    "Iyy = 6610.17475482 * 10 ** (-6)  #kgm2\n",
    "hull_surface_area = 0.05 #m2\n",
    "\n",
    "r_xi = -111.76 * 10 ** (-3)\n",
    "r_zi = 0.722 * 10 ** (-3)\n",
    "\n",
    "r_xh = -0.01\n",
    "r_zh = 0.01\n",
    "\n",
    "r_xb = 0\n",
    "r_zb = 0\n",
    "\n",
    "r_xt = 42.9 * 10 ** (-3)\n",
    "r_zt = -35.18 * 10 ** (-3)\n",
    "\n",
    "rho = 1000\n",
    "\n",
    "# Aero foil parameters\n",
    "AR = 2.61 #aspect ratio\n",
    "area = 0.025 #Surface area\n",
    "C_L_a = 0.1/np.deg2rad(1)\n",
    "C_L_alpha_offset = 0.5\n",
    "C_D_0 = 0.02"
   ]
  },
  {
   "cell_type": "markdown",
   "metadata": {},
   "source": [
    "## Initialize the models"
   ]
  },
  {
   "cell_type": "code",
   "execution_count": 3,
   "metadata": {},
   "outputs": [],
   "source": [
    "rigidbody = RigidBody(m, Vol, Iyy, np.array([r_xb, r_zb]))\n",
    "towForce = TowingForce(np.array([r_xt,r_zt]),10,np.deg2rad(30))\n",
    "controlForce = ControlForce(np.array([r_xi,r_zi]),np.deg2rad(-5),AR,area,C_L_a,C_L_alpha_offset,C_D_0)\n",
    "hullForce = HullForce(hull_surface_area,np.array([r_xh,r_zh]))\n",
    "\n",
    "sim = Simulation(rigidbody,towForce,hullForce,[controlForce])"
   ]
  },
  {
   "cell_type": "markdown",
   "metadata": {},
   "source": [
    "# Solve Equilibrium Point"
   ]
  },
  {
   "cell_type": "code",
   "execution_count": 4,
   "metadata": {},
   "outputs": [
    {
     "name": "stdout",
     "output_type": "stream",
     "text": [
      "Optimization Results:\n",
      "----------------------\n",
      "Parameter       Value           Units     \n",
      "----------------------\n",
      "Pitch Angle     -4.75           degrees   \n",
      "Delta_t         14.92           degrees   \n",
      "Towing Force    95.78           N         \n",
      "Delta_i         5.14            degrees   \n",
      "----------------------\n",
      "Fx:             0.00           N         \n",
      "Fz:             -0.00          N         \n",
      "My:             0.00           Nm        \n",
      "Residual Norm: 0.000000\n",
      "Optimization successful!\n"
     ]
    }
   ],
   "source": [
    "#Find equilibrium by minimizing Forces and moment individually using least squares\n",
    "results_LS = sim.solve_equilibrium_state_LS(2)\n",
    "\n",
    "initial_state = np.zeros(9)\n",
    "initial_state[2] = results_LS[0]\n",
    "initial_state[3] = 2"
   ]
  },
  {
   "cell_type": "markdown",
   "metadata": {},
   "source": [
    "### Equilibrium Simulation"
   ]
  },
  {
   "cell_type": "code",
   "execution_count": 5,
   "metadata": {},
   "outputs": [
    {
     "name": "stdout",
     "output_type": "stream",
     "text": [
      "[ 0.          0.         -0.08297527  2.          0.          0.\n",
      "  0.          0.          0.        ]\n"
     ]
    },
    {
     "ename": "ValueError",
     "evalue": "could not broadcast input array from shape (0,) into shape (2,)",
     "output_type": "error",
     "traceback": [
      "\u001b[1;31m---------------------------------------------------------------------------\u001b[0m",
      "\u001b[1;31mValueError\u001b[0m                                Traceback (most recent call last)",
      "Cell \u001b[1;32mIn[5], line 3\u001b[0m\n\u001b[0;32m      1\u001b[0m \u001b[38;5;66;03m#RK45 Solver\u001b[39;00m\n\u001b[0;32m      2\u001b[0m \u001b[38;5;28mprint\u001b[39m(initial_state)\n\u001b[1;32m----> 3\u001b[0m sim_result_ivp, solution \u001b[38;5;241m=\u001b[39m \u001b[43msim\u001b[49m\u001b[38;5;241;43m.\u001b[39;49m\u001b[43msimulate_solve_ivp\u001b[49m\u001b[43m(\u001b[49m\u001b[38;5;241;43m100\u001b[39;49m\u001b[43m,\u001b[49m\u001b[43m \u001b[49m\u001b[38;5;241;43m0.01\u001b[39;49m\u001b[43m,\u001b[49m\u001b[43m \u001b[49m\u001b[43minitial_state\u001b[49m\u001b[43m[\u001b[49m\u001b[43m:\u001b[49m\u001b[38;5;241;43m6\u001b[39;49m\u001b[43m]\u001b[49m\u001b[43m)\u001b[49m\n\u001b[0;32m      4\u001b[0m sim_result_ivp\u001b[38;5;241m.\u001b[39mplot_simulation_results()\n",
      "File \u001b[1;32mc:\\Users\\njthi\\OneDrive\\Documents\\GitHub\\uav-modeling\\2D_Modeling\\test\\..\\model\\Simulation.py:321\u001b[0m, in \u001b[0;36mSimulation.simulate_solve_ivp\u001b[1;34m(self, N, dt, initial_state)\u001b[0m\n\u001b[0;32m    319\u001b[0m \u001b[38;5;250m\u001b[39m\u001b[38;5;124;03m\"\"\"Simulates the system using solve_ivp.\"\"\"\u001b[39;00m\n\u001b[0;32m    320\u001b[0m \u001b[38;5;28mself\u001b[39m\u001b[38;5;241m.\u001b[39msim \u001b[38;5;241m=\u001b[39m Simulation_Result(dt, N, \u001b[38;5;28mlen\u001b[39m(\u001b[38;5;28mself\u001b[39m\u001b[38;5;241m.\u001b[39mcontrolForces))\n\u001b[1;32m--> 321\u001b[0m \u001b[38;5;28;43mself\u001b[39;49m\u001b[38;5;241;43m.\u001b[39;49m\u001b[43minitialize_system\u001b[49m\u001b[43m(\u001b[49m\u001b[43minitial_state\u001b[49m\u001b[43m)\u001b[49m\n\u001b[0;32m    323\u001b[0m \u001b[38;5;66;03m# Define the time span and evaluation points\u001b[39;00m\n\u001b[0;32m    324\u001b[0m t_span \u001b[38;5;241m=\u001b[39m (\u001b[38;5;241m0\u001b[39m, N \u001b[38;5;241m*\u001b[39m dt)\n",
      "File \u001b[1;32mc:\\Users\\njthi\\OneDrive\\Documents\\GitHub\\uav-modeling\\2D_Modeling\\test\\..\\model\\Simulation.py:170\u001b[0m, in \u001b[0;36mSimulation.initialize_system\u001b[1;34m(self, initial_state)\u001b[0m\n\u001b[0;32m    168\u001b[0m \u001b[38;5;28mself\u001b[39m\u001b[38;5;241m.\u001b[39msim\u001b[38;5;241m.\u001b[39minertial_velocity[\u001b[38;5;241m0\u001b[39m] \u001b[38;5;241m=\u001b[39m initial_state[\u001b[38;5;241m3\u001b[39m:\u001b[38;5;241m5\u001b[39m] \u001b[38;5;66;03m# [[x_dot, z_dot]]\u001b[39;00m\n\u001b[0;32m    169\u001b[0m \u001b[38;5;28mself\u001b[39m\u001b[38;5;241m.\u001b[39msim\u001b[38;5;241m.\u001b[39mpitch_rate[\u001b[38;5;241m0\u001b[39m] \u001b[38;5;241m=\u001b[39m initial_state[\u001b[38;5;241m5\u001b[39m]\n\u001b[1;32m--> 170\u001b[0m \u001b[38;5;28;43mself\u001b[39;49m\u001b[38;5;241;43m.\u001b[39;49m\u001b[43msim\u001b[49m\u001b[38;5;241;43m.\u001b[39;49m\u001b[43minertial_acceleration\u001b[49m\u001b[43m[\u001b[49m\u001b[38;5;241;43m0\u001b[39;49m\u001b[43m]\u001b[49m \u001b[38;5;241m=\u001b[39m initial_state[\u001b[38;5;241m6\u001b[39m:\u001b[38;5;241m8\u001b[39m]\n\u001b[0;32m    171\u001b[0m \u001b[38;5;28mself\u001b[39m\u001b[38;5;241m.\u001b[39msim\u001b[38;5;241m.\u001b[39mpitch_rate[\u001b[38;5;241m0\u001b[39m] \u001b[38;5;241m=\u001b[39m initial_state[\u001b[38;5;241m8\u001b[39m]\n\u001b[0;32m    173\u001b[0m T \u001b[38;5;241m=\u001b[39m \u001b[38;5;28mself\u001b[39m\u001b[38;5;241m.\u001b[39mtransformation_matrix(\u001b[38;5;28mself\u001b[39m\u001b[38;5;241m.\u001b[39msim\u001b[38;5;241m.\u001b[39mpitch_angle[\u001b[38;5;241m0\u001b[39m])\n",
      "\u001b[1;31mValueError\u001b[0m: could not broadcast input array from shape (0,) into shape (2,)"
     ]
    }
   ],
   "source": [
    "#RK45 Solver\n",
    "print(initial_state)\n",
    "sim_result_ivp, solution = sim.simulate_solve_ivp(100, 0.01, initial_state[:6])\n",
    "sim_result_ivp.plot_simulation_results()"
   ]
  },
  {
   "cell_type": "markdown",
   "metadata": {},
   "source": [
    "### Perturbation Simulation"
   ]
  },
  {
   "cell_type": "code",
   "execution_count": 6,
   "metadata": {},
   "outputs": [
    {
     "ename": "ValueError",
     "evalue": "could not broadcast input array from shape (9,) into shape (6,)",
     "output_type": "error",
     "traceback": [
      "\u001b[1;31m---------------------------------------------------------------------------\u001b[0m",
      "\u001b[1;31mValueError\u001b[0m                                Traceback (most recent call last)",
      "Cell \u001b[1;32mIn[6], line 4\u001b[0m\n\u001b[0;32m      1\u001b[0m perturbed_state \u001b[38;5;241m=\u001b[39m np\u001b[38;5;241m.\u001b[39mcopy(initial_state) \n\u001b[0;32m      2\u001b[0m perturbed_state[\u001b[38;5;241m3\u001b[39m] \u001b[38;5;241m+\u001b[39m\u001b[38;5;241m=\u001b[39m \u001b[38;5;241m1\u001b[39m \u001b[38;5;66;03m#Change Velocity\u001b[39;00m\n\u001b[1;32m----> 4\u001b[0m sim_result_ivp, solution \u001b[38;5;241m=\u001b[39m \u001b[43msim\u001b[49m\u001b[38;5;241;43m.\u001b[39;49m\u001b[43msimulate_solve_ivp\u001b[49m\u001b[43m(\u001b[49m\u001b[38;5;241;43m1000\u001b[39;49m\u001b[43m,\u001b[49m\u001b[43m \u001b[49m\u001b[38;5;241;43m0.001\u001b[39;49m\u001b[43m,\u001b[49m\u001b[43m \u001b[49m\u001b[43mperturbed_state\u001b[49m\u001b[43m)\u001b[49m\n\u001b[0;32m      5\u001b[0m sim_result_ivp\u001b[38;5;241m.\u001b[39mplot_simulation_results()\n",
      "File \u001b[1;32mc:\\Users\\njthi\\OneDrive\\Documents\\GitHub\\uav-modeling\\2D_Modeling\\test\\..\\model\\Simulation.py:322\u001b[0m, in \u001b[0;36mSimulation.simulate_solve_ivp\u001b[1;34m(self, N, dt, initial_state)\u001b[0m\n\u001b[0;32m    320\u001b[0m \u001b[38;5;28mself\u001b[39m\u001b[38;5;241m.\u001b[39msim \u001b[38;5;241m=\u001b[39m Simulation_Result(dt, N, \u001b[38;5;28mlen\u001b[39m(\u001b[38;5;28mself\u001b[39m\u001b[38;5;241m.\u001b[39mcontrolForces))\n\u001b[0;32m    321\u001b[0m full_initial_state \u001b[38;5;241m=\u001b[39m np\u001b[38;5;241m.\u001b[39mzeros(\u001b[38;5;241m9\u001b[39m)\n\u001b[1;32m--> 322\u001b[0m \u001b[43mfull_initial_state\u001b[49m\u001b[43m[\u001b[49m\u001b[43m:\u001b[49m\u001b[38;5;241;43m6\u001b[39;49m\u001b[43m]\u001b[49m \u001b[38;5;241m=\u001b[39m initial_state\n\u001b[0;32m    323\u001b[0m \u001b[38;5;28mself\u001b[39m\u001b[38;5;241m.\u001b[39minitialize_system(full_initial_state)\n\u001b[0;32m    325\u001b[0m \u001b[38;5;66;03m# Define the time span and evaluation points\u001b[39;00m\n",
      "\u001b[1;31mValueError\u001b[0m: could not broadcast input array from shape (9,) into shape (6,)"
     ]
    }
   ],
   "source": [
    "perturbed_state = np.copy(initial_state) \n",
    "perturbed_state[3] += 1 #Change Velocity\n",
    "\n",
    "sim_result_ivp, solution = sim.simulate_solve_ivp(1000, 0.001, perturbed_state)\n",
    "sim_result_ivp.plot_simulation_results()"
   ]
  }
 ],
 "metadata": {
  "kernelspec": {
   "display_name": "Python 3",
   "language": "python",
   "name": "python3"
  },
  "language_info": {
   "codemirror_mode": {
    "name": "ipython",
    "version": 3
   },
   "file_extension": ".py",
   "mimetype": "text/x-python",
   "name": "python",
   "nbconvert_exporter": "python",
   "pygments_lexer": "ipython3",
   "version": "3.11.1"
  }
 },
 "nbformat": 4,
 "nbformat_minor": 2
}
