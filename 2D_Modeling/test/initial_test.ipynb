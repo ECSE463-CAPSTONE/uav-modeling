{
 "cells": [
  {
   "cell_type": "code",
   "execution_count": 1,
   "metadata": {},
   "outputs": [],
   "source": [
    "import numpy as np\n",
    "import os\n",
    "import sys\n",
    "\n",
    "# Get the absolute path of the parent directory of the current file (which is 'test')\n",
    "# current_dir = os.getcwd()\n",
    "# model_path = os.path.join(current_dir, '..', 'model')\n",
    "# sys.path.append(model_path)\n",
    "sys.path.append('..')\n",
    "\n",
    "from model.Force import HullForce, ControlForce, TowingForce\n",
    "from model.RigidBody import RigidBody\n",
    "from model.Simulation import Simulation, Simulation_Result"
   ]
  },
  {
   "cell_type": "code",
   "execution_count": 2,
   "metadata": {},
   "outputs": [],
   "source": [
    "# Set parameters\n",
    "m = 0.877 # kg\n",
    "Vol = 733159.45810955 * 10 ** (-9) #m3\n",
    "Iyy = 6610.17475482 * 10 ** (-6) #kgm2\n",
    "hull_surface_area = 0.05 #m2\n",
    "\n",
    "r_xi = -111.76 * 10 ** (-3)\n",
    "r_zi = 0.722 * 10 ** (-3)\n",
    "\n",
    "r_xh = 0\n",
    "r_zh = 0\n",
    "\n",
    "r_xb = 0\n",
    "r_zb = 0\n",
    "\n",
    "r_xt = 42.9 * 10 ** (-3)\n",
    "r_zt = -35.18 * 10 ** (-3)\n",
    "\n",
    "rho = 1000\n",
    "\n",
    "# Aero foil parameters\n",
    "AR = 2.61 #aspect ratio\n",
    "area = 0.025 #Surface area\n",
    "C_L_a = 0.1/np.deg2rad(1)\n",
    "C_L_alpha_offset = 0.5\n",
    "C_D_0 = 0.02\n",
    "\n"
   ]
  },
  {
   "cell_type": "code",
   "execution_count": 3,
   "metadata": {},
   "outputs": [],
   "source": [
    "rigidbody = RigidBody(m, Vol, Iyy, np.array([r_xb, r_zb]))\n",
    "towForce = TowingForce(np.array([r_xt,r_zt]),10,np.deg2rad(30))\n",
    "controlForce = ControlForce(np.array([r_xi,r_zi]),np.deg2rad(-5),AR,area,C_L_a,C_L_alpha_offset,C_D_0)\n",
    "hullForce = HullForce(hull_surface_area,np.array([r_xh,r_zh]))\n",
    "\n",
    "sim = Simulation(rigidbody,towForce,hullForce,[controlForce])\n",
    "\n"
   ]
  },
  {
   "cell_type": "code",
   "execution_count": 4,
   "metadata": {},
   "outputs": [
    {
     "name": "stdout",
     "output_type": "stream",
     "text": [
      "-84.64104802620044\n",
      "21.58002894087017\n",
      "5.09195952180098\n"
     ]
    }
   ],
   "source": [
    "pitch_angle = -6\n",
    "initial_state=np.array([0, 0, 0, 2, 0, 0, 0, 0, 0])\n",
    "sim.initialize_system(initial_state)\n",
    "# Solve forces\n",
    "sim.solve_forces(0)\n",
    "\n",
    "# Calculate sum of forces/moments\n",
    "total_force_x, total_force_z = sim.rigidbody.sum_forces(pitch_angle) \n",
    "total_moment_y = sim.rigidbody.sum_moments(pitch_angle)\n",
    "\n",
    "print(total_force_x)\n",
    "print(total_force_z)\n",
    "print(total_moment_y)"
   ]
  },
  {
   "cell_type": "code",
   "execution_count": 5,
   "metadata": {},
   "outputs": [
    {
     "name": "stdout",
     "output_type": "stream",
     "text": [
      "[  7.5438419  -47.75359304]\n"
     ]
    }
   ],
   "source": [
    "print(controlForce.magnitude)"
   ]
  },
  {
   "cell_type": "code",
   "execution_count": 6,
   "metadata": {},
   "outputs": [
    {
     "name": "stdout",
     "output_type": "stream",
     "text": [
      "[90.  0.]\n"
     ]
    }
   ],
   "source": [
    "print(hullForce.magnitude)"
   ]
  },
  {
   "cell_type": "code",
   "execution_count": 7,
   "metadata": {},
   "outputs": [],
   "source": [
    "# results = sim.solve_equilibrium_state_fsolve_fixed_delta_i(2, 5)\n",
    "# results = sim.solve_equilibrium_state_fsolve_fixed_pitch(5, -6)\n"
   ]
  },
  {
   "cell_type": "code",
   "execution_count": 12,
   "metadata": {},
   "outputs": [
    {
     "name": "stdout",
     "output_type": "stream",
     "text": [
      "[array([-0.17453293,  0.17453293]), array([0.        , 1.74532925]), (0, 2000), array([-0.34906585,  0.17453293])]\n"
     ]
    },
    {
     "name": "stdout",
     "output_type": "stream",
     "text": [
      "Optimization Results:\n",
      "----------------------\n",
      "Parameter       Value           Units     \n",
      "----------------------\n",
      "Pitch Angle     1.87            degrees   \n",
      "Delta_t         14.04           degrees   \n",
      "Towing Force    94.44           N         \n",
      "Delta_i         0.78            degrees   \n",
      "----------------------\n",
      "Fx constraint   0.00            N         \n",
      "Fz constraint   -0.00           N         \n",
      "My constraint   0.00            Nm        \n",
      "Objective Function Value: 2.890151964944238e-11\n",
      "Optimization successful!\n"
     ]
    }
   ],
   "source": [
    "#Find equilibrium by minimizing 3D vector of Forces and moment\n",
    "print(sim.bounds)\n",
    "sim.bounds[0] = (np.deg2rad((-10,10))) #pitch angle bounds\n",
    "sim.bounds[1] = (np.deg2rad((0,100))) #towing angle bounds\n",
    "sim.bounds[3] = (np.deg2rad((-20,10))) #pitch angle bounds\n",
    "\n",
    "\n",
    "results = sim.solve_equilibrium_state_sqrt(2)\n",
    "\n",
    "\n",
    "#Solve forward euler\n",
    "#initial_state = np.array([0, 0, results.x[0], 2, 0, 0, 0, 0, 0]) #Set pitch angle to equilibrium value\n",
    "#sim.sim = sim.simulate_forward_euler(1000,0.01,initial_state)"
   ]
  },
  {
   "cell_type": "code",
   "execution_count": 9,
   "metadata": {},
   "outputs": [
    {
     "name": "stdout",
     "output_type": "stream",
     "text": [
      "Optimization terminated successfully    (Exit mode 0)\n",
      "            Current function value: 92.2513534409836\n",
      "            Iterations: 7\n",
      "            Function evaluations: 35\n",
      "            Gradient evaluations: 7\n",
      "Optimization Results:\n",
      "----------------------\n",
      "Parameter       Value           Units     \n",
      "----------------------\n",
      "Pitch Angle     10.00           degrees   \n",
      "Delta_t         16.58           degrees   \n",
      "Towing Force    92.25           N         \n",
      "Delta_i         0.04            degrees   \n",
      "----------------------\n",
      "Fx constraint   -0.00           N         \n",
      "Fz constraint   -0.00           N         \n",
      "My constraint   -0.00           Nm        \n",
      "Objective Function Value: 92.2513534409836\n",
      "Optimization successful!\n"
     ]
    }
   ],
   "source": [
    "#Find equilibrium by constraining forces/moment to zero and solve for minimum towing force\n",
    "results = sim.solve_equilibrium_state_min_FT(2)"
   ]
  },
  {
   "cell_type": "code",
   "execution_count": 10,
   "metadata": {},
   "outputs": [
    {
     "name": "stdout",
     "output_type": "stream",
     "text": [
      "Optimization Results:\n",
      "----------------------\n",
      "Parameter       Value           Units     \n",
      "----------------------\n",
      "Pitch Angle     -4.01           degrees   \n",
      "Delta_t         12.07           degrees   \n",
      "Towing Force    95.42           N         \n",
      "Delta_i         1.38            degrees   \n",
      "----------------------\n",
      "Fx:             -0.00          N         \n",
      "Fz:             0.00           N         \n",
      "My:             -0.00          Nm        \n",
      "Residual Norm: 0.000000\n",
      "Optimization successful!\n"
     ]
    }
   ],
   "source": [
    "#Find equilibrium by minimizing Forces and moment individually using least squares\n",
    "results = sim.solve_equilibrium_state_LS(2)"
   ]
  },
  {
   "cell_type": "code",
   "execution_count": 11,
   "metadata": {},
   "outputs": [
    {
     "ename": "NameError",
     "evalue": "name 'error' is not defined",
     "output_type": "error",
     "traceback": [
      "\u001b[1;31m---------------------------------------------------------------------------\u001b[0m",
      "\u001b[1;31mNameError\u001b[0m                                 Traceback (most recent call last)",
      "Cell \u001b[1;32mIn[11], line 1\u001b[0m\n\u001b[1;32m----> 1\u001b[0m \u001b[43merror\u001b[49m\n\u001b[0;32m      2\u001b[0m \u001b[38;5;28;01mimport\u001b[39;00m \u001b[38;5;21;01mmatplotlib\u001b[39;00m\u001b[38;5;21;01m.\u001b[39;00m\u001b[38;5;21;01mpyplot\u001b[39;00m \u001b[38;5;28;01mas\u001b[39;00m \u001b[38;5;21;01mplt\u001b[39;00m\n\u001b[0;32m      4\u001b[0m \u001b[38;5;66;03m# Generate pitch angle upper bounds (in radians)\u001b[39;00m\n",
      "\u001b[1;31mNameError\u001b[0m: name 'error' is not defined"
     ]
    }
   ],
   "source": [
    "error\n",
    "import matplotlib.pyplot as plt\n",
    "\n",
    "# Generate pitch angle upper bounds (in radians)\n",
    "pitch_angle_upper_bounds = np.linspace(-7, 7, 10)  # 10 points from -7 to 7 degrees\n",
    "\n",
    "# Initialize arrays for results\n",
    "towForces = np.zeros_like(pitch_angle_upper_bounds)\n",
    "delta_ts = np.zeros_like(pitch_angle_upper_bounds)\n",
    "delta_is = np.zeros_like(pitch_angle_upper_bounds)\n",
    "\n",
    "# Run the simulation for each upper bound\n",
    "for i, pitch_angle_ub in enumerate(pitch_angle_upper_bounds):\n",
    "    sim.ub_pitch_angle = np.deg2rad(pitch_angle_ub)  # Convert to radians\n",
    "    sim.lb_pitch_angle = np.deg2rad(pitch_angle_ub - 0.01)  # Lower bound in radians\n",
    "    sim.bounds[0] = (sim.lb_pitch_angle, sim.ub_pitch_angle)\n",
    "    result_LS = sim.solve_equilibrium_state_LS(2)  # Simulate and retrieve results\n",
    "\n",
    "    # Store results\n",
    "    delta_ts[i] = np.rad2deg(result_LS[1])  # Convert to degrees\n",
    "    towForces[i] = result_LS[2]  # Force in N\n",
    "    delta_is[i] = np.rad2deg(result_LS[3])  # Convert to degrees\n",
    "\n",
    "# Create the figure and twin axes\n",
    "fig, ax1 = plt.subplots(figsize=(10, 6))\n",
    "\n",
    "# Plot towing force on the primary y-axis\n",
    "ax1.plot(pitch_angle_upper_bounds, towForces, 'o-', color='tab:blue', label='Towing Force (N)')\n",
    "ax1.set_xlabel('Pitch Angle Upper Bound (degrees)')\n",
    "ax1.set_ylabel('Towing Force (N)', color='tab:blue')\n",
    "ax1.tick_params(axis='y', labelcolor='tab:blue')\n",
    "ax1.grid(True)\n",
    "\n",
    "# Create a second y-axis sharing the same x-axis\n",
    "ax2 = ax1.twinx()\n",
    "\n",
    "# Plot delta_t and delta_i on the secondary y-axis\n",
    "ax2.plot(pitch_angle_upper_bounds, delta_ts, 's-', color='tab:orange', label='Delta_t (degrees)')\n",
    "ax2.plot(pitch_angle_upper_bounds, delta_is, 'd-', color='tab:green', label='Delta_i (degrees)')\n",
    "\n",
    "ax2.set_ylabel('Angles (degrees)', color='black')\n",
    "ax2.tick_params(axis='y', labelcolor='black')\n",
    "\n",
    "# Combine legends from both axes\n",
    "lines1, labels1 = ax1.get_legend_handles_labels()\n",
    "lines2, labels2 = ax2.get_legend_handles_labels()\n",
    "ax2.legend(lines1 + lines2, labels1 + labels2, loc='upper right')\n",
    "\n",
    "# Adjust layout and show the plot\n",
    "plt.title('Towing Force and Angles vs. Pitch Angle Upper Bound')\n",
    "plt.tight_layout()\n",
    "plt.show()\n"
   ]
  }
 ],
 "metadata": {
  "kernelspec": {
   "display_name": "Python 3",
   "language": "python",
   "name": "python3"
  },
  "language_info": {
   "codemirror_mode": {
    "name": "ipython",
    "version": 3
   },
   "file_extension": ".py",
   "mimetype": "text/x-python",
   "name": "python",
   "nbconvert_exporter": "python",
   "pygments_lexer": "ipython3",
   "version": "3.11.1"
  }
 },
 "nbformat": 4,
 "nbformat_minor": 2
}
