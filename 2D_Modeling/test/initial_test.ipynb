{
 "cells": [
  {
   "cell_type": "code",
   "execution_count": 1,
   "metadata": {},
   "outputs": [],
   "source": [
    "import numpy as np\n",
    "import os\n",
    "import sys\n",
    "\n",
    "# Get the absolute path of the parent directory of the current file (which is 'test')\n",
    "# current_dir = os.getcwd()\n",
    "# model_path = os.path.join(current_dir, '..', 'model')\n",
    "# sys.path.append(model_path)\n",
    "sys.path.append('..')\n",
    "\n",
    "from model.Force import HullForce, ControlForce, TowingForce\n",
    "from model.RigidBody import RigidBody\n",
    "from model.Simulation import Simulation, Simulation_Result"
   ]
  },
  {
   "cell_type": "code",
   "execution_count": 2,
   "metadata": {},
   "outputs": [],
   "source": [
    "# Set parameters\n",
    "m = 0.877 # kg\n",
    "Vol = 733159.45810955 * 10 ** (-9)\n",
    "Iyy = 6610.17475482 * 10 * (-6)\n",
    "hull_surface_area = 0.1\n",
    "\n",
    "r_xi = -111.76 * 10 ** (-3)\n",
    "r_zi = 0.722 * 10 ** (-3)\n",
    "\n",
    "r_xh = 0\n",
    "r_zh = 0\n",
    "\n",
    "r_xb = 0\n",
    "r_zb = 0\n",
    "\n",
    "r_xt = 42.9 * 10 ** (-3)\n",
    "r_zt = -35.18 * 10 ** (-3)\n",
    "\n",
    "rho = 1000\n",
    "\n",
    "# Aero foil parameters\n",
    "A = 2.61\n",
    "C_L_a = 1 / 5\n",
    "C_D_0 = 0.02\n",
    "\n"
   ]
  },
  {
   "cell_type": "code",
   "execution_count": 4,
   "metadata": {},
   "outputs": [],
   "source": [
    "rigidbody = RigidBody(m, Vol, Iyy, np.array([r_xb, r_zb]))\n",
    "towForce = TowingForce(np.array([r_xt,r_zt]),1,np.deg2rad(30))\n",
    "controlForce = ControlForce(np.array([r_xi,r_zi]),np.deg2rad(-5),A,C_L_a,C_D_0)\n",
    "hullForce = HullForce(hull_surface_area,np.array([r_xh,r_zh]))\n",
    "\n",
    "sim = Simulation(rigidbody,towForce,hullForce,[controlForce])\n",
    "\n"
   ]
  },
  {
   "cell_type": "code",
   "execution_count": null,
   "metadata": {},
   "outputs": [],
   "source": [
    "results = sim.solve_equilibrium_state(2)"
   ]
  }
 ],
 "metadata": {
  "kernelspec": {
   "display_name": "Python 3",
   "language": "python",
   "name": "python3"
  },
  "language_info": {
   "codemirror_mode": {
    "name": "ipython",
    "version": 3
   },
   "file_extension": ".py",
   "mimetype": "text/x-python",
   "name": "python",
   "nbconvert_exporter": "python",
   "pygments_lexer": "ipython3",
   "version": "3.13.0"
  }
 },
 "nbformat": 4,
 "nbformat_minor": 2
}
