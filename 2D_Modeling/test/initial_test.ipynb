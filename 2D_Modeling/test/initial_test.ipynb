{
 "cells": [
  {
   "cell_type": "code",
   "execution_count": 1,
   "metadata": {},
   "outputs": [
    {
     "name": "stderr",
     "output_type": "stream",
     "text": [
      "/Library/Frameworks/Python.framework/Versions/3.9/lib/python3.9/site-packages/scipy/__init__.py:138: UserWarning: A NumPy version >=1.16.5 and <1.23.0 is required for this version of SciPy (detected version 1.23.3)\n",
      "  warnings.warn(f\"A NumPy version >={np_minversion} and <{np_maxversion} is required for this version of \"\n"
     ]
    }
   ],
   "source": [
    "import numpy as np\n",
    "import os\n",
    "import sys\n",
    "\n",
    "# Get the absolute path of the parent directory of the current file (which is 'test')\n",
    "# current_dir = os.getcwd()\n",
    "# model_path = os.path.join(current_dir, '..', 'model')\n",
    "# sys.path.append(model_path)\n",
    "sys.path.append('..')\n",
    "\n",
    "from model.Force import HullForce, ControlForce, TowingForce\n",
    "from model.RigidBody import RigidBody\n",
    "from model.Simulation import Simulation, Simulation_Result"
   ]
  },
  {
   "cell_type": "code",
   "execution_count": 2,
   "metadata": {},
   "outputs": [],
   "source": [
    "# Set parameters\n",
    "m = 0.877 # kg\n",
    "Vol = 733159.45810955 * 10 ** (-9)\n",
    "Iyy = 6610.17475482 * 10 * (-6)\n",
    "hull_surface_area = 0.1\n",
    "\n",
    "r_xi = -111.76 * 10 ** (-3)\n",
    "r_zi = 0.722 * 10 ** (-3)\n",
    "\n",
    "r_xh = 0\n",
    "r_zh = 0\n",
    "\n",
    "r_xb = 0\n",
    "r_zb = 0\n",
    "\n",
    "r_xt = 42.9 * 10 ** (-3)\n",
    "r_zt = -35.18 * 10 ** (-3)\n",
    "\n",
    "rho = 1000\n",
    "\n",
    "# Aero foil parameters\n",
    "A = 2.61\n",
    "C_L_a = 1 / 5\n",
    "C_D_0 = 0.02\n",
    "\n"
   ]
  },
  {
   "cell_type": "code",
   "execution_count": 3,
   "metadata": {},
   "outputs": [],
   "source": [
    "rigidbody = RigidBody(m, Vol, Iyy, np.array([r_xb, r_zb]))\n",
    "towForce = TowingForce(np.array([r_xt,r_zt]),1,np.deg2rad(30))\n",
    "controlForce = ControlForce(np.array([r_xi,r_zi]),np.deg2rad(-5),A,C_L_a,C_D_0)\n",
    "hullForce = HullForce(hull_surface_area,np.array([r_xh,r_zh]))\n",
    "\n",
    "sim = Simulation(rigidbody,towForce,hullForce,[controlForce])\n",
    "\n"
   ]
  },
  {
   "cell_type": "code",
   "execution_count": 4,
   "metadata": {},
   "outputs": [
    {
     "name": "stdout",
     "output_type": "stream",
     "text": [
      "Optimization Results:\n",
      "----------------------\n",
      "Parameter       Value           Units     \n",
      "----------------------\n",
      "Pitch Angle     7.00            degrees   \n",
      "Delta_t         15.00           degrees   \n",
      "Towing Force    100.00          N         \n",
      "Delta_i         -0.76           degrees   \n",
      "----------------------\n",
      "Objective Function Value: 33.211393947404936\n",
      "Optimization successful!\n"
     ]
    }
   ],
   "source": [
    "# results = sim.solve_equilibrium_state_fsolve(2)\n",
    "results = sim.solve_equilibrium_state_sqrt(2)\n"
   ]
  }
 ],
 "metadata": {
  "kernelspec": {
   "display_name": "Python 3",
   "language": "python",
   "name": "python3"
  },
  "language_info": {
   "codemirror_mode": {
    "name": "ipython",
    "version": 3
   },
   "file_extension": ".py",
   "mimetype": "text/x-python",
   "name": "python",
   "nbconvert_exporter": "python",
   "pygments_lexer": "ipython3",
   "version": "3.9.1"
  }
 },
 "nbformat": 4,
 "nbformat_minor": 2
}
