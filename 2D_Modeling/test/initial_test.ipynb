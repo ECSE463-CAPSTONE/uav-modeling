{
 "cells": [
  {
   "cell_type": "code",
   "execution_count": 1,
   "metadata": {},
   "outputs": [
    {
     "name": "stderr",
     "output_type": "stream",
     "text": [
      "/Library/Frameworks/Python.framework/Versions/3.9/lib/python3.9/site-packages/scipy/__init__.py:138: UserWarning: A NumPy version >=1.16.5 and <1.23.0 is required for this version of SciPy (detected version 1.23.3)\n",
      "  warnings.warn(f\"A NumPy version >={np_minversion} and <{np_maxversion} is required for this version of \"\n"
     ]
    }
   ],
   "source": [
    "import numpy as np\n",
    "import os\n",
    "import sys\n",
    "\n",
    "# Get the absolute path of the parent directory of the current file (which is 'test')\n",
    "# current_dir = os.getcwd()\n",
    "# model_path = os.path.join(current_dir, '..', 'model')\n",
    "# sys.path.append(model_path)\n",
    "sys.path.append('..')\n",
    "\n",
    "from model.Force import HullForce, ControlForce, TowingForce\n",
    "from model.RigidBody import RigidBody\n",
    "from model.Simulation import Simulation, Simulation_Result"
   ]
  },
  {
   "cell_type": "code",
   "execution_count": 2,
   "metadata": {},
   "outputs": [],
   "source": [
    "# Set parameters\n",
    "m = 0.877 # kg\n",
    "Vol = 733159.45810955 * 10 ** (-9)\n",
    "Iyy = 6610.17475482 * 10 * (-6)\n",
    "\n",
    "r_xi = -111.76 * 10 ** (-3)\n",
    "r_zi = 0.722 * 10 ** (-3)\n",
    "\n",
    "r_xh = 0\n",
    "r_zh = 0\n",
    "\n",
    "r_xb = 0\n",
    "r_zb = 0\n",
    "\n",
    "r_xt = 42.9 * 10 ** (-3)\n",
    "r_zt = -35.18 * 10 ** (-3)\n",
    "\n",
    "rho = 1000\n",
    "\n",
    "# Aero foil parameters\n",
    "A = 2.61\n",
    "C_L_a = 1 / 5\n",
    "C_D_0 = 0.02\n",
    "\n"
   ]
  },
  {
   "cell_type": "code",
   "execution_count": 4,
   "metadata": {},
   "outputs": [
    {
     "ename": "TypeError",
     "evalue": "__init__() missing 2 required positional arguments: 'center_of_buoyancy' and 'N'",
     "output_type": "error",
     "traceback": [
      "\u001b[0;31m---------------------------------------------------------------------------\u001b[0m",
      "\u001b[0;31mTypeError\u001b[0m                                 Traceback (most recent call last)",
      "Cell \u001b[0;32mIn[4], line 1\u001b[0m\n\u001b[0;32m----> 1\u001b[0m rigidbody \u001b[38;5;241m=\u001b[39m \u001b[43mRigidBody\u001b[49m\u001b[43m(\u001b[49m\u001b[43mm\u001b[49m\u001b[43m,\u001b[49m\u001b[43m \u001b[49m\u001b[43mVol\u001b[49m\u001b[43m,\u001b[49m\u001b[43m \u001b[49m\u001b[43mIyy\u001b[49m\u001b[43m,\u001b[49m\u001b[43m \u001b[49m\u001b[43mnp\u001b[49m\u001b[38;5;241;43m.\u001b[39;49m\u001b[43marray\u001b[49m\u001b[43m(\u001b[49m\u001b[43m[\u001b[49m\u001b[43mr_xb\u001b[49m\u001b[43m,\u001b[49m\u001b[43m \u001b[49m\u001b[43mr_zb\u001b[49m\u001b[43m]\u001b[49m\u001b[43m)\u001b[49m\u001b[43m)\u001b[49m\n",
      "\u001b[0;31mTypeError\u001b[0m: __init__() missing 2 required positional arguments: 'center_of_buoyancy' and 'N'"
     ]
    }
   ],
   "source": [
    "rigidbody = RigidBody(m, Vol, Iyy, np.array([r_xb, r_zb]))"
   ]
  }
 ],
 "metadata": {
  "kernelspec": {
   "display_name": "base",
   "language": "python",
   "name": "python3"
  },
  "language_info": {
   "codemirror_mode": {
    "name": "ipython",
    "version": 3
   },
   "file_extension": ".py",
   "mimetype": "text/x-python",
   "name": "python",
   "nbconvert_exporter": "python",
   "pygments_lexer": "ipython3",
   "version": "3.9.1"
  }
 },
 "nbformat": 4,
 "nbformat_minor": 2
}
