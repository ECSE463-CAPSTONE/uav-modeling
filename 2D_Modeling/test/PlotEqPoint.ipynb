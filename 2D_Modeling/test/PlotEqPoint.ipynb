{
 "cells": [
  {
   "cell_type": "code",
   "execution_count": 1,
   "metadata": {},
   "outputs": [],
   "source": [
    "\n",
    "import os\n",
    "import sys\n",
    "import matplotlib.pyplot as plt\n",
    "import numpy as np\n",
    "from tabulate import tabulate\n",
    "\n",
    "# Get the absolute path of the parent directory of the current file (which is 'test')\n",
    "# current_dir = os.getcwd()\n",
    "# model_path = os.path.join(current_dir, '..', 'model')\n",
    "# sys.path.append(model_path)\n",
    "sys.path.append('..')\n",
    "\n",
    "from model.Force import HullForce, ControlForce, TowingForce\n",
    "from model.RigidBody import RigidBody\n",
    "from model.Simulation import Simulation, Simulation_Result"
   ]
  },
  {
   "cell_type": "code",
   "execution_count": 2,
   "metadata": {},
   "outputs": [
    {
     "name": "stdout",
     "output_type": "stream",
     "text": [
      "5.729577951308232\n"
     ]
    }
   ],
   "source": [
    "# Set parameters\n",
    "m = 0.877 # kg\n",
    "Vol = 733159.45810955 * 10 ** (-9) #m3\n",
    "Iyy = 6610.17475482 * 10 ** (-6) * 10 ** (3) #kgm2\n",
    "hull_surface_area = 0.0088 #m2\n",
    "hull_cd = 1.2\n",
    "hull_corr_factor = 0.75\n",
    "\n",
    "r_xi = -111.76 * 10 ** (-3) #m \n",
    "r_zi = 0.722 * 10 ** (-3) #m\n",
    "\n",
    "r_xh = 0\n",
    "r_zh = 0\n",
    "\n",
    "r_xb = 0\n",
    "r_zb = 0\n",
    "\n",
    "r_xt = 42.9 * 10**(-3)\n",
    "r_zt = -75 * 10**(-3)\n",
    "\n",
    "rho = 1000 #kg/m3\n",
    "\n",
    "# Aero foil parameters\n",
    "AR = 2.61 #aspect ratio\n",
    "area = 0.025 #Surface area\n",
    "C_L_a = 0.1/np.deg2rad(1)\n",
    "C_L_alpha_offset = 0.5\n",
    "C_D_0 = 1.328/np.sqrt(200000)\n",
    "\n",
    "print(C_L_a)"
   ]
  },
  {
   "cell_type": "code",
   "execution_count": 3,
   "metadata": {},
   "outputs": [],
   "source": [
    "rigidbody = RigidBody(m, Vol, Iyy, np.array([r_xb, r_zb]))\n",
    "towForce = TowingForce(np.array([r_xt,r_zt]),10,np.deg2rad(30))\n",
    "controlForce = ControlForce(np.array([r_xi,r_zi]),np.deg2rad(-5),AR,area,C_L_a,C_L_alpha_offset,C_D_0)\n",
    "hullForce = HullForce(hull_surface_area,np.array([r_xh,r_zh]),hull_cd,hull_corr_factor)\n",
    "\n",
    "sim = Simulation(rigidbody,towForce,hullForce,[controlForce])\n"
   ]
  },
  {
   "cell_type": "code",
   "execution_count": null,
   "metadata": {},
   "outputs": [],
   "source": []
  },
  {
   "cell_type": "code",
   "execution_count": 4,
   "metadata": {},
   "outputs": [
    {
     "name": "stdout",
     "output_type": "stream",
     "text": [
      "Optimization Results:\n",
      "----------------------\n",
      "Parameter       Value           Units     \n",
      "----------------------\n",
      "Pitch Angle     -3.68           degrees   \n",
      "Delta_t         27.05           degrees   \n",
      "Towing Force    18.62           N         \n",
      "Delta_i         3.94            degrees   \n",
      "----------------------\n",
      "Fx:             -0.00          N         \n",
      "Fz:             0.00           N         \n",
      "My:             -0.00          Nm        \n",
      "Residual Norm: 0.000000\n",
      "Optimization successful!\n"
     ]
    }
   ],
   "source": [
    "results_LS = sim.solve_equilibrium_state_LS(2)"
   ]
  },
  {
   "cell_type": "code",
   "execution_count": 5,
   "metadata": {},
   "outputs": [
    {
     "name": "stdout",
     "output_type": "stream",
     "text": [
      "-3.6793246949026313\n"
     ]
    }
   ],
   "source": [
    "print(np.rad2deg(sim.eq_sim.pitch_angle[0]))\n"
   ]
  },
  {
   "cell_type": "code",
   "execution_count": 8,
   "metadata": {},
   "outputs": [],
   "source": [
    "    \n",
    "def plotfbd(sim:object):\n",
    "# Define the rotation angle in radians\n",
    "    theta = -sim.pitch_angle[0] # Rotate by pitch (adjust as needed)\n",
    "    # Rotation matrix\n",
    "    rotation_matrix = np.array([\n",
    "        [np.cos(theta), -np.sin(theta)],\n",
    "        [np.sin(theta),  np.cos(theta)]\n",
    "    ])\n",
    "\n",
    "    # Define forces with their points of application (relative to origin)\n",
    "    forces = [\n",
    "        {\"point\": (r_xi, r_zi), \"vector\": (0, sim.sim.control_force_z)},            # Control z-force\n",
    "        {\"point\": (r_xi, r_zi), \"vector\": (sim.sim.control_force_x, 0)},            # Control x-force\n",
    "        {\"point\": (r_xh, r_zh), \"vector\": (sim.sim.hull_force_x, sim.sim.hull_force_z)}, # Hull drag\n",
    "        {\"point\": (r_xt, r_zt), \"vector\": (sim.sim.tow_force_x, sim.sim.tow_force_z)},   # Tow force\n",
    "        {\"point\": (r_xb, r_zb), \"vector\": (sim.sim.buoyancy_force_x, sim.sim.buoyancy_force_z)}, # Buoyancy\n",
    "        {\"point\": (0, 0), \"vector\": (sim.sim.mass_force_x, sim.sim.mass_force_z)}       # Weight\n",
    "    ]\n",
    "\n",
    "    # Determine the maximum length of the vectors\n",
    "    max_length = max(np.linalg.norm(force['vector']) for force in forces)\n",
    "\n",
    "    # Specify the desired maximum length on the plot\n",
    "    desired_max_length = 0.1\n",
    "\n",
    "    # Calculate scaling factor\n",
    "    scaling_factor = desired_max_length / max_length if max_length > 0 else 1\n",
    "\n",
    "    # Define rectangle properties\n",
    "    rect_center = (0,0)  # Center of the rectangle\n",
    "    rect_width, rect_height = 0.15,.08\n",
    "\n",
    "    # Define rectangle corners (before rotation)\n",
    "    corners = [\n",
    "        (rect_center[0] - rect_width / 2, rect_center[1] - rect_height / 2),  # Bottom-left\n",
    "        (rect_center[0] + rect_width / 2, rect_center[1] - rect_height / 2),  # Bottom-right\n",
    "        (rect_center[0] + rect_width / 2, rect_center[1] + rect_height / 2),  # Top-right\n",
    "        (rect_center[0] - rect_width / 2, rect_center[1] + rect_height / 2)   # Top-left\n",
    "    ]\n",
    "\n",
    "    # Rotate forces and rectangle corners\n",
    "    transformed_forces = []\n",
    "    for force in forces:\n",
    "        # Transform point and vector\n",
    "        rotated_point = np.dot(rotation_matrix, force[\"point\"])\n",
    "        rotated_vector = np.dot(rotation_matrix, force[\"vector\"])\n",
    "\n",
    "        # Scale the rotated vector\n",
    "        scaled_vector = rotated_vector * scaling_factor\n",
    "        \n",
    "        # Store transformed point and vector\n",
    "        transformed_forces.append({\"point\": rotated_point, \"vector\": scaled_vector})\n",
    "\n",
    "    # Rotate rectangle corners\n",
    "    rotated_corners = [np.dot(rotation_matrix, corner) for corner in corners]\n",
    "    rotated_corners.append(rotated_corners[0])  # Close the rectangle by repeating the first point\n",
    "\n",
    "    # Calculate limits based on rotated forces and rectangle\n",
    "    padding = 0.05\n",
    "    x_min = min(point[0] + vector[0] for force in transformed_forces for point, vector in zip([force['point']], [force['vector']])) - padding\n",
    "    x_max = max(point[0] + vector[0] for force in transformed_forces for point, vector in zip([force['point']], [force['vector']])) + padding\n",
    "    y_min = min(point[1] + vector[1] for force in transformed_forces for point, vector in zip([force['point']], [force['vector']])) - padding\n",
    "    y_max = max(point[1] + vector[1] for force in transformed_forces for point, vector in zip([force['point']], [force['vector']])) + padding\n",
    "\n",
    "    # Set up plot\n",
    "    fig, ax = plt.subplots(figsize=(10, 10))\n",
    "    ax.set_aspect('equal')\n",
    "\n",
    "    # Set axis limits\n",
    "    ax.set_xlim(x_min, x_max)\n",
    "    ax.set_ylim(y_min, y_max)\n",
    "\n",
    "    # Plot transformed forces\n",
    "    for force in transformed_forces:\n",
    "        point = force[\"point\"]\n",
    "        vector = force[\"vector\"]\n",
    "        ax.quiver(point[0], point[1], vector[0], vector[1], angles='xy', scale_units='xy', scale=1, color='blue')\n",
    "        ax.plot([0,point[0]], [0,point[1]],'.-')\n",
    "\n",
    "    # Plot the rotated rectangle\n",
    "    rotated_x = [corner[0] for corner in rotated_corners]\n",
    "    rotated_y = [corner[1] for corner in rotated_corners]\n",
    "    ax.plot(rotated_x, rotated_y, 'g-')  # Green rectangle outline\n",
    "\n",
    "    # Flip the appearance of the axes without changing vector directions\n",
    "    ax.invert_xaxis()  # Flip x-axis appearance\n",
    "    ax.invert_yaxis()  # Flip y-axis appearance\n",
    "\n",
    "    # Optional: Add grid, labels, and title\n",
    "    plt.grid(True)\n",
    "    plt.xlabel('X-axis')\n",
    "    plt.ylabel('Y-axis')\n",
    "    plt.title('Free Body Diagram with Rotated Forces and Rectangle')\n",
    "\n",
    "    plt.show()"
   ]
  },
  {
   "cell_type": "code",
   "execution_count": 10,
   "metadata": {},
   "outputs": [
    {
     "ename": "IndexError",
     "evalue": "list index out of range",
     "output_type": "error",
     "traceback": [
      "\u001b[1;31m---------------------------------------------------------------------------\u001b[0m",
      "\u001b[1;31mIndexError\u001b[0m                                Traceback (most recent call last)",
      "Cell \u001b[1;32mIn[10], line 1\u001b[0m\n\u001b[1;32m----> 1\u001b[0m \u001b[43mplotfbd\u001b[49m\u001b[43m(\u001b[49m\u001b[43msim\u001b[49m\u001b[38;5;241;43m.\u001b[39;49m\u001b[43msim\u001b[49m\u001b[43m)\u001b[49m\n",
      "Cell \u001b[1;32mIn[8], line 3\u001b[0m, in \u001b[0;36mplotfbd\u001b[1;34m(sim)\u001b[0m\n\u001b[0;32m      1\u001b[0m \u001b[38;5;28;01mdef\u001b[39;00m \u001b[38;5;21mplotfbd\u001b[39m(sim:\u001b[38;5;28mobject\u001b[39m):\n\u001b[0;32m      2\u001b[0m \u001b[38;5;66;03m# Define the rotation angle in radians\u001b[39;00m\n\u001b[1;32m----> 3\u001b[0m     theta \u001b[38;5;241m=\u001b[39m \u001b[38;5;241m-\u001b[39m\u001b[43msim\u001b[49m\u001b[38;5;241;43m.\u001b[39;49m\u001b[43mpitch_angle\u001b[49m\u001b[43m[\u001b[49m\u001b[38;5;241;43m0\u001b[39;49m\u001b[43m]\u001b[49m \u001b[38;5;66;03m# Rotate by pitch (adjust as needed)\u001b[39;00m\n\u001b[0;32m      4\u001b[0m     \u001b[38;5;66;03m# Rotation matrix\u001b[39;00m\n\u001b[0;32m      5\u001b[0m     rotation_matrix \u001b[38;5;241m=\u001b[39m np\u001b[38;5;241m.\u001b[39marray([\n\u001b[0;32m      6\u001b[0m         [np\u001b[38;5;241m.\u001b[39mcos(theta), \u001b[38;5;241m-\u001b[39mnp\u001b[38;5;241m.\u001b[39msin(theta)],\n\u001b[0;32m      7\u001b[0m         [np\u001b[38;5;241m.\u001b[39msin(theta),  np\u001b[38;5;241m.\u001b[39mcos(theta)]\n\u001b[0;32m      8\u001b[0m     ])\n",
      "\u001b[1;31mIndexError\u001b[0m: list index out of range"
     ]
    }
   ],
   "source": [
    "plotfbd(sim.sim)"
   ]
  },
  {
   "cell_type": "code",
   "execution_count": null,
   "metadata": {},
   "outputs": [
    {
     "name": "stdout",
     "output_type": "stream",
     "text": [
      "pstate [ 1.00000000e-05  0.00000000e+00 -3.49441006e-02  2.00000000e+00\n",
      "  0.00000000e+00  0.00000000e+00]\n",
      "xdot pertu [ 2.00000000e+00  0.00000000e+00  0.00000000e+00 -1.18007710e-11\n",
      "  2.99824667e-10 -3.57090117e-10]\n",
      "pstate [ 0.00000000e+00  1.00000000e-05 -3.49441006e-02  2.00000000e+00\n",
      "  0.00000000e+00  0.00000000e+00]\n",
      "xdot pertu [ 2.00000000e+00  0.00000000e+00  0.00000000e+00 -1.18007710e-11\n",
      "  2.99824667e-10 -3.57090117e-10]\n",
      "pstate [ 0.         0.        -0.0349341  2.         0.         0.       ]\n",
      "xdot pertu [ 2.00000000e+00  0.00000000e+00  0.00000000e+00  8.12340129e-05\n",
      "  3.35359872e-06 -2.05925412e-06]\n",
      "pstate [ 0.         0.        -0.0349441  2.00001    0.         0.       ]\n",
      "xdot pertu [ 2.00001000e+00  0.00000000e+00  0.00000000e+00 -1.18007710e-11\n",
      "  2.99824667e-10 -3.57090117e-10]\n",
      "pstate [ 0.00000000e+00  0.00000000e+00 -3.49441006e-02  2.00000000e+00\n",
      "  1.00000000e-05  0.00000000e+00]\n",
      "xdot pertu [ 2.00000000e+00  1.00000000e-05  0.00000000e+00 -1.18007710e-11\n",
      "  2.99824667e-10 -3.57090117e-10]\n",
      "pstate [ 0.00000000e+00  0.00000000e+00 -3.49441006e-02  2.00000000e+00\n",
      "  0.00000000e+00  1.00000000e-05]\n",
      "xdot pertu [ 2.00000000e+00  0.00000000e+00  1.00000000e-05 -1.18007710e-11\n",
      " -3.99997002e-05 -3.57090117e-10]\n"
     ]
    }
   ],
   "source": [
    "velocity=2\n",
    "pitch_angle = results_LS[0]\n",
    "jacobian = sim.calculate_jacobian(velocity, pitch_angle, 1e-5)\n",
    "eigs= np.linalg.eig(jacobian)\n",
    "\n",
    "\n"
   ]
  },
  {
   "cell_type": "code",
   "execution_count": null,
   "metadata": {},
   "outputs": [
    {
     "name": "stdout",
     "output_type": "stream",
     "text": [
      "[0.+0.j         0.+0.j         0.+0.j         0.+0.j\n",
      " 0.+0.45375071j 0.-0.45375071j]\n"
     ]
    }
   ],
   "source": [
    "print(eigs[0])"
   ]
  }
 ],
 "metadata": {
  "kernelspec": {
   "display_name": "Python 3",
   "language": "python",
   "name": "python3"
  },
  "language_info": {
   "codemirror_mode": {
    "name": "ipython",
    "version": 3
   },
   "file_extension": ".py",
   "mimetype": "text/x-python",
   "name": "python",
   "nbconvert_exporter": "python",
   "pygments_lexer": "ipython3",
   "version": "3.11.1"
  }
 },
 "nbformat": 4,
 "nbformat_minor": 2
}
