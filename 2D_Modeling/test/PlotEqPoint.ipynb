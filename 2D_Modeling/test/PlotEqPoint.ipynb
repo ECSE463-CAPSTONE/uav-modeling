{
 "cells": [
  {
   "cell_type": "code",
   "execution_count": 2,
   "metadata": {},
   "outputs": [],
   "source": [
    "\n",
    "import os\n",
    "import sys\n",
    "import matplotlib.pyplot as plt\n",
    "import numpy as np\n",
    "\n",
    "# Get the absolute path of the parent directory of the current file (which is 'test')\n",
    "# current_dir = os.getcwd()\n",
    "# model_path = os.path.join(current_dir, '..', 'model')\n",
    "# sys.path.append(model_path)\n",
    "sys.path.append('..')\n",
    "\n",
    "from model.Force import HullForce, ControlForce, TowingForce\n",
    "from model.RigidBody import RigidBody\n",
    "from model.Simulation import Simulation, Simulation_Result"
   ]
  },
  {
   "cell_type": "code",
   "execution_count": 7,
   "metadata": {},
   "outputs": [],
   "source": [
    "# Set parameters\n",
    "m = 0.877 # kg\n",
    "Vol = 733159.45810955 * 10 ** (-9) #m3\n",
    "Iyy = 6610.17475482 * 10 ** (-6) * 10 ** (3) #kgm2\n",
    "hull_surface_area = 0.05 #m2\n",
    "\n",
    "r_xi = -111.76 * 10 ** (-3) #m \n",
    "r_zi = 0.722 * 10 ** (-3) #m\n",
    "\n",
    "r_xh = -0.01\n",
    "r_zh = 0.01\n",
    "\n",
    "r_xb = 0\n",
    "r_zb = 0\n",
    "\n",
    "r_xt = 42.9 * 10**(-3)\n",
    "r_zt = -35 * 10**(-3)\n",
    "\n",
    "rho = 1000 #kg/m3\n",
    "\n",
    "# Aero foil parameters\n",
    "AR = 2.61 #aspect ratio\n",
    "area = 0.025 #Surface area\n",
    "C_L_a = 0.1/np.deg2rad(1)\n",
    "C_L_alpha_offset = 0.5\n",
    "C_D_0 = 0.02\n",
    "\n"
   ]
  },
  {
   "cell_type": "code",
   "execution_count": 8,
   "metadata": {},
   "outputs": [],
   "source": [
    "rigidbody = RigidBody(m, Vol, Iyy, np.array([r_xb, r_zb]))\n",
    "towForce = TowingForce(np.array([r_xt,r_zt]),10,np.deg2rad(30))\n",
    "controlForce = ControlForce(np.array([r_xi,r_zi]),np.deg2rad(-5),AR,area,C_L_a,C_L_alpha_offset,C_D_0)\n",
    "hullForce = HullForce(hull_surface_area,np.array([r_xh,r_zh]))\n",
    "\n",
    "sim = Simulation(rigidbody,towForce,hullForce,[controlForce])\n"
   ]
  },
  {
   "cell_type": "code",
   "execution_count": null,
   "metadata": {},
   "outputs": [
    {
     "name": "stdout",
     "output_type": "stream",
     "text": [
      "0.0\n"
     ]
    }
   ],
   "source": []
  },
  {
   "cell_type": "code",
   "execution_count": 9,
   "metadata": {},
   "outputs": [
    {
     "name": "stdout",
     "output_type": "stream",
     "text": [
      "Optimization Results:\n",
      "----------------------\n",
      "Parameter       Value           Units     \n",
      "----------------------\n",
      "Pitch Angle     -4.74           degrees   \n",
      "Delta_t         14.86           degrees   \n",
      "Towing Force    95.74           N         \n",
      "Delta_i         5.15            degrees   \n",
      "----------------------\n",
      "Fx:             -0.00          N         \n",
      "Fz:             0.00           N         \n",
      "My:             -0.00          Nm        \n",
      "Residual Norm: 0.000000\n",
      "Optimization successful!\n"
     ]
    }
   ],
   "source": [
    "results_LS = sim.solve_equilibrium_state_LS(2)"
   ]
  },
  {
   "cell_type": "code",
   "execution_count": 43,
   "metadata": {},
   "outputs": [
    {
     "name": "stdout",
     "output_type": "stream",
     "text": [
      "95.77817630593255\n",
      "0.9662996102191513\n",
      "\n"
     ]
    }
   ],
   "source": [
    "print(rigidbody.tow_force.magnitude)\n",
    "print(np.cos(rigidbody.tow_force.delta_t))\n",
    "print()"
   ]
  },
  {
   "cell_type": "code",
   "execution_count": 12,
   "metadata": {},
   "outputs": [
    {
     "data": {
      "image/png": "[encoded data removed]",
      "text/plain": [
       "<Figure size 640x480 with 1 Axes>"
      ]
     },
     "metadata": {},
     "output_type": "display_data"
    }
   ],
   "source": [
    "\n",
    "\n",
    "# Define forces with their points of application (relative to origin)\n",
    "forces = [\n",
    "    {\"point\": (r_xi, r_zi), \"vector\": (0, controlForce.magnitude[1])},  # Control lift\n",
    "    {\"point\": (r_xi, r_zi), \"vector\": (-controlForce.magnitude[0], 0)},   #control drag\n",
    "    {\"point\": (r_xh, r_zh), \"vector\": (-controlForce.magnitude[0], 0)},  #hull drag\n",
    "    {\"point\": (r_xt, r_zt), \"vector\": (rigidbody.tow_force.magnitude*np.cos(rigidbody.tow_force.magnitude),\n",
    "                                       rigidbody.tow_force.magnitude*np.sin(rigidbody.tow_force.magnitude) )}   #hull drag\n",
    "    \n",
    "\n",
    "    \n",
    "]\n",
    "\n",
    "# Set up plot\n",
    "fig, ax = plt.subplots()\n",
    "ax.set_aspect('equal')\n",
    "\n",
    "\n",
    "# Plot forces as arrows\n",
    "ax.plot(0, 0, 'ko')\n",
    "for force in forces:\n",
    "    point = force[\"point\"]\n",
    "    vector = force[\"vector\"]\n",
    "    ax.quiver(point[0], point[1], vector[0], vector[1], angles='xy', scale_units='xy', scale=100, color='blue')\n",
    "    ax.plot(point[0], point[1], 'ro')  # Mark the point of application\n",
    "\n",
    "ax.invert_xaxis()  # Flip x-axis appearance\n",
    "ax.invert_yaxis()  # Flip y-axis appearance\n",
    "# Optional: Add grid, labels, and title\n",
    "plt.grid(True)\n",
    "plt.xlabel('X-axis')\n",
    "plt.ylabel('Z-axis')\n",
    "plt.title('Free Body Diagram')\n",
    "\n",
    "plt.show()\n"
   ]
  },
  {
   "cell_type": "code",
   "execution_count": 52,
   "metadata": {},
   "outputs": [
    {
     "name": "stdout",
     "output_type": "stream",
     "text": [
      "[{'point': (-0.11176000000000001, 0.000722), 'vector': (0, -23.24414370201756)}, {'point': (-0.11176000000000001, 0.000722), 'vector': (2.550414399830927, 0)}, {'point': (-0.01, 0.01), 'vector': (2.550414399830927, 0)}, {'point': (0.0429, -0.03518), 'vector': (3.8683502710612774, 95.70002571927908)}]\n"
     ]
    }
   ],
   "source": [
    "print(forces)"
   ]
  }
 ],
 "metadata": {
  "kernelspec": {
   "display_name": "base",
   "language": "python",
   "name": "python3"
  },
  "language_info": {
   "codemirror_mode": {
    "name": "ipython",
    "version": 3
   },
   "file_extension": ".py",
   "mimetype": "text/x-python",
   "name": "python",
   "nbconvert_exporter": "python",
   "pygments_lexer": "ipython3",
   "version": "3.12.4"
  }
 },
 "nbformat": 4,
 "nbformat_minor": 2
}
