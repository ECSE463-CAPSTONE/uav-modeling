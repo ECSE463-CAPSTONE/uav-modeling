{
 "cells": [
  {
   "cell_type": "code",
   "execution_count": 19,
   "metadata": {},
   "outputs": [
    {
     "name": "stdout",
     "output_type": "stream",
     "text": [
      "[-5.89822831e-01 -1.73785500e-02 -3.33764976e-03  5.33204676e-03\n",
      " -3.78580137e-07 -1.74600886e-02]\n"
     ]
    }
   ],
   "source": [
    "import pandas as pd\n",
    "import numpy as np\n",
    "from scipy.interpolate import griddata\n",
    "\n",
    "map = pd.read_excel('C:/Users/njthi/OneDrive/Documents/GitHub/uav-modeling/3D_Modeling/data/Hull_AeroMap_V1.xlsx')\n",
    "\n",
    "yaw_pitch_points = np.array([map.Yaw, map.Pitch])\n",
    "\n",
    "def interpolate_values(yaw, pitch):\n",
    "    yaw_pitch_points = map[[\"Yaw\", \"Pitch\"]].to_numpy()\n",
    "    values = map[[\"CDA\", \"CLA\", \"CmYA\", \"CmZA\", \"CmXA\", \"CSA\"]].to_numpy()\n",
    "    interpolated_values = griddata(yaw_pitch_points, values, (yaw, pitch), method='linear')\n",
    "    return interpolated_values if interpolated_values is not None else None\n",
    "\n",
    "print(interpolate_values(0,0))\n"
   ]
  }
 ],
 "metadata": {
  "kernelspec": {
   "display_name": "base",
   "language": "python",
   "name": "python3"
  },
  "language_info": {
   "codemirror_mode": {
    "name": "ipython",
    "version": 3
   },
   "file_extension": ".py",
   "mimetype": "text/x-python",
   "name": "python",
   "nbconvert_exporter": "python",
   "pygments_lexer": "ipython3",
   "version": "3.12.3"
  }
 },
 "nbformat": 4,
 "nbformat_minor": 2
}
